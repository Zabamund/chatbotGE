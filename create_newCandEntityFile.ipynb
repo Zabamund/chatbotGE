{
 "cells": [
  {
   "cell_type": "markdown",
   "metadata": {},
   "source": [
    "## Create new Candidate entity file\n",
    "This new file must have 3 entities:\n",
    "\n",
    "<ol>\n",
    "<li>Candidates in GC</li>\n",
    "<li>Candidates in CE</li>\n",
    "<li>Candidates in GC & CE</li>\n",
    "</ol>"
   ]
  },
  {
   "cell_type": "code",
   "execution_count": 24,
   "metadata": {},
   "outputs": [
    {
     "ename": "ImportError",
     "evalue": "cannot import name 'venn2'",
     "output_type": "error",
     "traceback": [
      "\u001b[0;31m---------------------------------------------------------------------------\u001b[0m",
      "\u001b[0;31mImportError\u001b[0m                               Traceback (most recent call last)",
      "\u001b[0;32m<ipython-input-24-c7224534b1d6>\u001b[0m in \u001b[0;36m<module>\u001b[0;34m()\u001b[0m\n\u001b[1;32m      3\u001b[0m \u001b[0;32mimport\u001b[0m \u001b[0mnumpy\u001b[0m \u001b[0;32mas\u001b[0m \u001b[0mnp\u001b[0m\u001b[0;34m\u001b[0m\u001b[0m\n\u001b[1;32m      4\u001b[0m \u001b[0;32mimport\u001b[0m \u001b[0mmatplotlib\u001b[0m\u001b[0;34m.\u001b[0m\u001b[0mpyplot\u001b[0m \u001b[0;32mas\u001b[0m \u001b[0mplt\u001b[0m\u001b[0;34m\u001b[0m\u001b[0m\n\u001b[0;32m----> 5\u001b[0;31m \u001b[0;32mfrom\u001b[0m \u001b[0mmatplotlib\u001b[0m \u001b[0;32mimport\u001b[0m \u001b[0mvenn2\u001b[0m\u001b[0;34m\u001b[0m\u001b[0m\n\u001b[0m\u001b[1;32m      6\u001b[0m \u001b[0mget_ipython\u001b[0m\u001b[0;34m(\u001b[0m\u001b[0;34m)\u001b[0m\u001b[0;34m.\u001b[0m\u001b[0mmagic\u001b[0m\u001b[0;34m(\u001b[0m\u001b[0;34m'matplotlib inline'\u001b[0m\u001b[0;34m)\u001b[0m\u001b[0;34m\u001b[0m\u001b[0m\n",
      "\u001b[0;31mImportError\u001b[0m: cannot import name 'venn2'"
     ]
    }
   ],
   "source": [
    "# import libraries\n",
    "import pandas as pd\n",
    "import numpy as np\n",
    "import matplotlib.pyplot as plt\n",
    "from matplotlib import venn2\n",
    "%matplotlib inline"
   ]
  },
  {
   "cell_type": "code",
   "execution_count": 16,
   "metadata": {},
   "outputs": [
    {
     "data": {
      "text/html": [
       "<div>\n",
       "<style>\n",
       "    .dataframe thead tr:only-child th {\n",
       "        text-align: right;\n",
       "    }\n",
       "\n",
       "    .dataframe thead th {\n",
       "        text-align: left;\n",
       "    }\n",
       "\n",
       "    .dataframe tbody tr th {\n",
       "        vertical-align: top;\n",
       "    }\n",
       "</style>\n",
       "<table border=\"1\" class=\"dataframe\">\n",
       "  <thead>\n",
       "    <tr style=\"text-align: right;\">\n",
       "      <th></th>\n",
       "      <th>entity</th>\n",
       "      <th>value</th>\n",
       "      <th>synonyms</th>\n",
       "    </tr>\n",
       "  </thead>\n",
       "  <tbody>\n",
       "    <tr>\n",
       "      <th>0</th>\n",
       "      <td>Depute_e</td>\n",
       "      <td>PAGANI Rémy</td>\n",
       "      <td>rémy:pagani:Remy:pagani</td>\n",
       "    </tr>\n",
       "    <tr>\n",
       "      <th>1</th>\n",
       "      <td>Depute_e</td>\n",
       "      <td>WENGER Saliha</td>\n",
       "      <td>saliha:wenger:salika:saliha:wenger:Salika</td>\n",
       "    </tr>\n",
       "    <tr>\n",
       "      <th>2</th>\n",
       "      <td>Depute_e</td>\n",
       "      <td>ZAUGG Christian</td>\n",
       "      <td>christian:zaugg:zaug:zog:zogg:christian:zaugg:...</td>\n",
       "    </tr>\n",
       "    <tr>\n",
       "      <th>3</th>\n",
       "      <td>Depute_e</td>\n",
       "      <td>HALLER Jocelyne</td>\n",
       "      <td>jocelyne:haller:haler:Jocelyne:haller:haul</td>\n",
       "    </tr>\n",
       "    <tr>\n",
       "      <th>4</th>\n",
       "      <td>Depute_e</td>\n",
       "      <td>ENILINE Alexander</td>\n",
       "      <td>alexander:eniline:alexander:eniline</td>\n",
       "    </tr>\n",
       "  </tbody>\n",
       "</table>\n",
       "</div>"
      ],
      "text/plain": [
       "     entity              value  \\\n",
       "0  Depute_e        PAGANI Rémy   \n",
       "1  Depute_e      WENGER Saliha   \n",
       "2  Depute_e    ZAUGG Christian   \n",
       "3  Depute_e    HALLER Jocelyne   \n",
       "4  Depute_e  ENILINE Alexander   \n",
       "\n",
       "                                            synonyms  \n",
       "0                            rémy:pagani:Remy:pagani  \n",
       "1          saliha:wenger:salika:saliha:wenger:Salika  \n",
       "2  christian:zaugg:zaug:zog:zogg:christian:zaugg:...  \n",
       "3         jocelyne:haller:haler:Jocelyne:haller:haul  \n",
       "4                alexander:eniline:alexander:eniline  "
      ]
     },
     "execution_count": 16,
     "metadata": {},
     "output_type": "execute_result"
    }
   ],
   "source": [
    "# import files\n",
    "df = pd.read_csv('./electionBot_sBox/entities/candidates-Entities_v5.csv')\n",
    "df.head()"
   ]
  },
  {
   "cell_type": "code",
   "execution_count": 17,
   "metadata": {},
   "outputs": [
    {
     "data": {
      "text/html": [
       "<div>\n",
       "<style>\n",
       "    .dataframe thead tr:only-child th {\n",
       "        text-align: right;\n",
       "    }\n",
       "\n",
       "    .dataframe thead th {\n",
       "        text-align: left;\n",
       "    }\n",
       "\n",
       "    .dataframe tbody tr th {\n",
       "        vertical-align: top;\n",
       "    }\n",
       "</style>\n",
       "<table border=\"1\" class=\"dataframe\">\n",
       "  <thead>\n",
       "    <tr style=\"text-align: right;\">\n",
       "      <th></th>\n",
       "      <th>initialEntity</th>\n",
       "      <th>value</th>\n",
       "      <th>synonyms</th>\n",
       "      <th>entity</th>\n",
       "    </tr>\n",
       "  </thead>\n",
       "  <tbody>\n",
       "    <tr>\n",
       "      <th>0</th>\n",
       "      <td>Depute_e</td>\n",
       "      <td>PAGANI Rémy</td>\n",
       "      <td>rémy:pagani:Remy:pagani</td>\n",
       "      <td></td>\n",
       "    </tr>\n",
       "    <tr>\n",
       "      <th>1</th>\n",
       "      <td>Depute_e</td>\n",
       "      <td>WENGER Saliha</td>\n",
       "      <td>saliha:wenger:salika:saliha:wenger:Salika</td>\n",
       "      <td></td>\n",
       "    </tr>\n",
       "    <tr>\n",
       "      <th>2</th>\n",
       "      <td>Depute_e</td>\n",
       "      <td>ZAUGG Christian</td>\n",
       "      <td>christian:zaugg:zaug:zog:zogg:christian:zaugg:...</td>\n",
       "      <td></td>\n",
       "    </tr>\n",
       "    <tr>\n",
       "      <th>3</th>\n",
       "      <td>Depute_e</td>\n",
       "      <td>HALLER Jocelyne</td>\n",
       "      <td>jocelyne:haller:haler:Jocelyne:haller:haul</td>\n",
       "      <td></td>\n",
       "    </tr>\n",
       "    <tr>\n",
       "      <th>4</th>\n",
       "      <td>Depute_e</td>\n",
       "      <td>ENILINE Alexander</td>\n",
       "      <td>alexander:eniline:alexander:eniline</td>\n",
       "      <td></td>\n",
       "    </tr>\n",
       "  </tbody>\n",
       "</table>\n",
       "</div>"
      ],
      "text/plain": [
       "  initialEntity              value  \\\n",
       "0      Depute_e        PAGANI Rémy   \n",
       "1      Depute_e      WENGER Saliha   \n",
       "2      Depute_e    ZAUGG Christian   \n",
       "3      Depute_e    HALLER Jocelyne   \n",
       "4      Depute_e  ENILINE Alexander   \n",
       "\n",
       "                                            synonyms entity  \n",
       "0                            rémy:pagani:Remy:pagani         \n",
       "1          saliha:wenger:salika:saliha:wenger:Salika         \n",
       "2  christian:zaugg:zaug:zog:zogg:christian:zaugg:...         \n",
       "3         jocelyne:haller:haler:Jocelyne:haller:haul         \n",
       "4                alexander:eniline:alexander:eniline         "
      ]
     },
     "execution_count": 17,
     "metadata": {},
     "output_type": "execute_result"
    }
   ],
   "source": [
    "# rename column and add new column\n",
    "df.rename(index=str, columns={\"entity\": \"initialEntity\"}, inplace=True)\n",
    "df['entity'] = ''\n",
    "df.head()"
   ]
  },
  {
   "cell_type": "code",
   "execution_count": 18,
   "metadata": {},
   "outputs": [
    {
     "data": {
      "text/html": [
       "<div>\n",
       "<style>\n",
       "    .dataframe thead tr:only-child th {\n",
       "        text-align: right;\n",
       "    }\n",
       "\n",
       "    .dataframe thead th {\n",
       "        text-align: left;\n",
       "    }\n",
       "\n",
       "    .dataframe tbody tr th {\n",
       "        vertical-align: top;\n",
       "    }\n",
       "</style>\n",
       "<table border=\"1\" class=\"dataframe\">\n",
       "  <thead>\n",
       "    <tr style=\"text-align: right;\">\n",
       "      <th></th>\n",
       "      <th>initialEntity</th>\n",
       "      <th>value</th>\n",
       "      <th>synonyms</th>\n",
       "      <th>entity</th>\n",
       "    </tr>\n",
       "  </thead>\n",
       "  <tbody>\n",
       "    <tr>\n",
       "      <th>649</th>\n",
       "      <td>Conseiller_ere_d_Etat</td>\n",
       "      <td>ZACHARIAS Ronald</td>\n",
       "      <td>ronald:zacharias:ronald:zacharias</td>\n",
       "      <td></td>\n",
       "    </tr>\n",
       "    <tr>\n",
       "      <th>650</th>\n",
       "      <td>Conseiller_ere_d_Etat</td>\n",
       "      <td>VIDONNE Thierry</td>\n",
       "      <td>thierry:vidonne:vidonne:thierry:Vidonne:Vidonne</td>\n",
       "      <td></td>\n",
       "    </tr>\n",
       "    <tr>\n",
       "      <th>651</th>\n",
       "      <td>Conseiller_ere_d_Etat</td>\n",
       "      <td>LEITNER André</td>\n",
       "      <td>andré:leitner:leytner:andre:leitner:Leytner</td>\n",
       "      <td></td>\n",
       "    </tr>\n",
       "    <tr>\n",
       "      <th>652</th>\n",
       "      <td>Conseiller_ere_d_Etat</td>\n",
       "      <td>FONTANA Jérôme</td>\n",
       "      <td>jérôme:fontana:Jerome:Fontana</td>\n",
       "      <td></td>\n",
       "    </tr>\n",
       "    <tr>\n",
       "      <th>653</th>\n",
       "      <td>Conseiller_ere_d_Etat</td>\n",
       "      <td>AMSLER Susanne</td>\n",
       "      <td>susanne:amsler:susanne:amsler</td>\n",
       "      <td></td>\n",
       "    </tr>\n",
       "  </tbody>\n",
       "</table>\n",
       "</div>"
      ],
      "text/plain": [
       "             initialEntity             value  \\\n",
       "649  Conseiller_ere_d_Etat  ZACHARIAS Ronald   \n",
       "650  Conseiller_ere_d_Etat   VIDONNE Thierry   \n",
       "651  Conseiller_ere_d_Etat     LEITNER André   \n",
       "652  Conseiller_ere_d_Etat    FONTANA Jérôme   \n",
       "653  Conseiller_ere_d_Etat    AMSLER Susanne   \n",
       "\n",
       "                                            synonyms entity  \n",
       "649                ronald:zacharias:ronald:zacharias         \n",
       "650  thierry:vidonne:vidonne:thierry:Vidonne:Vidonne         \n",
       "651      andré:leitner:leytner:andre:leitner:Leytner         \n",
       "652                    jérôme:fontana:Jerome:Fontana         \n",
       "653                    susanne:amsler:susanne:amsler         "
      ]
     },
     "execution_count": 18,
     "metadata": {},
     "output_type": "execute_result"
    }
   ],
   "source": [
    "df.tail()"
   ]
  },
  {
   "cell_type": "code",
   "execution_count": 22,
   "metadata": {},
   "outputs": [
    {
     "ename": "NameError",
     "evalue": "name 'venn2' is not defined",
     "output_type": "error",
     "traceback": [
      "\u001b[0;31m---------------------------------------------------------------------------\u001b[0m",
      "\u001b[0;31mNameError\u001b[0m                                 Traceback (most recent call last)",
      "\u001b[0;32m<ipython-input-22-d7635ab5dd8d>\u001b[0m in \u001b[0;36m<module>\u001b[0;34m()\u001b[0m\n\u001b[1;32m      7\u001b[0m \u001b[0mset2\u001b[0m \u001b[0;34m=\u001b[0m \u001b[0mset\u001b[0m\u001b[0;34m(\u001b[0m\u001b[0mGC\u001b[0m\u001b[0;34m[\u001b[0m\u001b[0;34m'value'\u001b[0m\u001b[0;34m]\u001b[0m\u001b[0;34m)\u001b[0m\u001b[0;34m\u001b[0m\u001b[0m\n\u001b[1;32m      8\u001b[0m \u001b[0;34m\u001b[0m\u001b[0m\n\u001b[0;32m----> 9\u001b[0;31m \u001b[0mvenn2\u001b[0m\u001b[0;34m(\u001b[0m\u001b[0;34m[\u001b[0m\u001b[0mset1\u001b[0m\u001b[0;34m,\u001b[0m \u001b[0mset2\u001b[0m\u001b[0;34m]\u001b[0m\u001b[0;34m,\u001b[0m \u001b[0;34m(\u001b[0m\u001b[0;34m'Set1'\u001b[0m\u001b[0;34m,\u001b[0m \u001b[0;34m'Set2'\u001b[0m\u001b[0;34m)\u001b[0m\u001b[0;34m)\u001b[0m\u001b[0;34m\u001b[0m\u001b[0m\n\u001b[0m\u001b[1;32m     10\u001b[0m \u001b[0mplt\u001b[0m\u001b[0;34m.\u001b[0m\u001b[0mshow\u001b[0m\u001b[0;34m(\u001b[0m\u001b[0;34m)\u001b[0m\u001b[0;34m\u001b[0m\u001b[0m\n",
      "\u001b[0;31mNameError\u001b[0m: name 'venn2' is not defined"
     ]
    },
    {
     "data": {
      "text/plain": [
       "<matplotlib.figure.Figure at 0x108181358>"
      ]
     },
     "metadata": {},
     "output_type": "display_data"
    }
   ],
   "source": [
    "# create value for entity\n",
    "CE = df[(df['initialEntity'] == 'Depute_e')]\n",
    "GC = df[(df['initialEntity'] == 'Conseiller_ere_d_Etat')]\n",
    "\n",
    "plt.figure(figsize=(4,4))\n",
    "set1 = set(CE['value'])\n",
    "set2 = set(GC['value'])\n",
    "\n",
    "venn2([set1, set2], ('Set1', 'Set2'))\n",
    "plt.show()"
   ]
  },
  {
   "cell_type": "code",
   "execution_count": null,
   "metadata": {
    "collapsed": true
   },
   "outputs": [],
   "source": [
    "# remove old column\n",
    "df.drop(['initialEntity'], axis=1, inplace=True)\n",
    "df.head()"
   ]
  },
  {
   "cell_type": "code",
   "execution_count": null,
   "metadata": {
    "collapsed": true
   },
   "outputs": [],
   "source": [
    "# export csv files\n",
    "df.to_csv('./electionBot_sBox/entities/candidates-Entities_v6.csv',index=False)"
   ]
  }
 ],
 "metadata": {
  "kernelspec": {
   "display_name": "Python [default]",
   "language": "python",
   "name": "python3"
  },
  "language_info": {
   "codemirror_mode": {
    "name": "ipython",
    "version": 3
   },
   "file_extension": ".py",
   "mimetype": "text/x-python",
   "name": "python",
   "nbconvert_exporter": "python",
   "pygments_lexer": "ipython3",
   "version": "3.6.4"
  }
 },
 "nbformat": 4,
 "nbformat_minor": 2
}
