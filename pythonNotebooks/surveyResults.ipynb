{
 "cells": [
  {
   "cell_type": "markdown",
   "metadata": {},
   "source": [
    "# Landmanbot survey results"
   ]
  },
  {
   "cell_type": "code",
   "execution_count": 58,
   "metadata": {
    "collapsed": true
   },
   "outputs": [],
   "source": [
    "# library imports\n",
    "import pandas as pd\n",
    "import numpy as np\n",
    "import matplotlib.pyplot as plt \n",
    "%matplotlib inline\n",
    "from matplotlib.gridspec import GridSpec"
   ]
  },
  {
   "cell_type": "code",
   "execution_count": 59,
   "metadata": {
    "scrolled": true
   },
   "outputs": [
    {
     "data": {
      "text/html": [
       "<div>\n",
       "<style>\n",
       "    .dataframe thead tr:only-child th {\n",
       "        text-align: right;\n",
       "    }\n",
       "\n",
       "    .dataframe thead th {\n",
       "        text-align: left;\n",
       "    }\n",
       "\n",
       "    .dataframe tbody tr th {\n",
       "        vertical-align: top;\n",
       "    }\n",
       "</style>\n",
       "<table border=\"1\" class=\"dataframe\">\n",
       "  <thead>\n",
       "    <tr style=\"text-align: right;\">\n",
       "      <th></th>\n",
       "      <th>ID de la réponse</th>\n",
       "      <th>Date de soumission</th>\n",
       "      <th>Dernière page</th>\n",
       "      <th>Langue de départ</th>\n",
       "      <th>Avez-vous utilisé Landmanbot -</th>\n",
       "      <th>Avez-vous trouvé les informations que vous cherchiez -</th>\n",
       "      <th>La qualité des réponses et du service vous a-t-elle convenu - []</th>\n",
       "      <th>Auriez-vous préféré une expérience plus libre ou plus guidée -</th>\n",
       "      <th>Aves-vous des remarques ou des suggestions d'amélioration -</th>\n",
       "      <th>Pourquoi n'avez-vous pas utilisé Landmanbot -</th>\n",
       "      <th>Qu'est-ce qu'il manque pour que vous l'utilisiez -</th>\n",
       "    </tr>\n",
       "  </thead>\n",
       "  <tbody>\n",
       "    <tr>\n",
       "      <th>0</th>\n",
       "      <td>13</td>\n",
       "      <td>1980-01-01 00:00:00</td>\n",
       "      <td>1</td>\n",
       "      <td>fr</td>\n",
       "      <td>Oui</td>\n",
       "      <td>Oui</td>\n",
       "      <td>5.0</td>\n",
       "      <td>Plus libre (je peux parler à Landmanbot presqu...</td>\n",
       "      <td>NaN</td>\n",
       "      <td>NaN</td>\n",
       "      <td>NaN</td>\n",
       "    </tr>\n",
       "    <tr>\n",
       "      <th>1</th>\n",
       "      <td>14</td>\n",
       "      <td>1980-01-01 00:00:00</td>\n",
       "      <td>1</td>\n",
       "      <td>fr</td>\n",
       "      <td>Non</td>\n",
       "      <td>NaN</td>\n",
       "      <td>NaN</td>\n",
       "      <td>NaN</td>\n",
       "      <td>NaN</td>\n",
       "      <td>98zh87z</td>\n",
       "      <td>NaN</td>\n",
       "    </tr>\n",
       "    <tr>\n",
       "      <th>2</th>\n",
       "      <td>15</td>\n",
       "      <td>NaN</td>\n",
       "      <td>1</td>\n",
       "      <td>fr</td>\n",
       "      <td>NaN</td>\n",
       "      <td>NaN</td>\n",
       "      <td>NaN</td>\n",
       "      <td>NaN</td>\n",
       "      <td>NaN</td>\n",
       "      <td>NaN</td>\n",
       "      <td>NaN</td>\n",
       "    </tr>\n",
       "  </tbody>\n",
       "</table>\n",
       "</div>"
      ],
      "text/plain": [
       "   ID de la réponse   Date de soumission  Dernière page Langue de départ  \\\n",
       "0                13  1980-01-01 00:00:00              1               fr   \n",
       "1                14  1980-01-01 00:00:00              1               fr   \n",
       "2                15                  NaN              1               fr   \n",
       "\n",
       "  Avez-vous utilisé Landmanbot -  \\\n",
       "0                            Oui   \n",
       "1                            Non   \n",
       "2                            NaN   \n",
       "\n",
       "  Avez-vous trouvé les informations que vous cherchiez -  \\\n",
       "0                                                Oui       \n",
       "1                                                NaN       \n",
       "2                                                NaN       \n",
       "\n",
       "   La qualité des réponses et du service vous a-t-elle convenu - []  \\\n",
       "0                                                5.0                  \n",
       "1                                                NaN                  \n",
       "2                                                NaN                  \n",
       "\n",
       "  Auriez-vous préféré une expérience plus libre ou plus guidée -  \\\n",
       "0  Plus libre (je peux parler à Landmanbot presqu...               \n",
       "1                                                NaN               \n",
       "2                                                NaN               \n",
       "\n",
       "  Aves-vous des remarques ou des suggestions d'amélioration -  \\\n",
       "0                                                NaN            \n",
       "1                                                NaN            \n",
       "2                                                NaN            \n",
       "\n",
       "  Pourquoi n'avez-vous pas utilisé Landmanbot -  \\\n",
       "0                                           NaN   \n",
       "1                                       98zh87z   \n",
       "2                                           NaN   \n",
       "\n",
       "   Qu'est-ce qu'il manque pour que vous l'utilisiez -  \n",
       "0                                                NaN   \n",
       "1                                                NaN   \n",
       "2                                                NaN   "
      ]
     },
     "execution_count": 59,
     "metadata": {},
     "output_type": "execute_result"
    }
   ],
   "source": [
    "# import file\n",
    "df_raw = pd.read_excel('../surveyResults.xls', sheetname='Landmanbot')\n",
    "df_raw.head(3)"
   ]
  },
  {
   "cell_type": "code",
   "execution_count": 65,
   "metadata": {},
   "outputs": [
    {
     "data": {
      "text/html": [
       "<div>\n",
       "<style>\n",
       "    .dataframe thead tr:only-child th {\n",
       "        text-align: right;\n",
       "    }\n",
       "\n",
       "    .dataframe thead th {\n",
       "        text-align: left;\n",
       "    }\n",
       "\n",
       "    .dataframe tbody tr th {\n",
       "        vertical-align: top;\n",
       "    }\n",
       "</style>\n",
       "<table border=\"1\" class=\"dataframe\">\n",
       "  <thead>\n",
       "    <tr style=\"text-align: right;\">\n",
       "      <th></th>\n",
       "      <th>id</th>\n",
       "      <th>date</th>\n",
       "      <th>lastPage</th>\n",
       "      <th>language</th>\n",
       "      <th>usedBot</th>\n",
       "      <th>infoFound</th>\n",
       "      <th>ansQuality</th>\n",
       "      <th>moreGuided</th>\n",
       "      <th>remarks</th>\n",
       "      <th>whyNotUseBot</th>\n",
       "      <th>missingToUseBot</th>\n",
       "    </tr>\n",
       "  </thead>\n",
       "  <tbody>\n",
       "    <tr>\n",
       "      <th>0</th>\n",
       "      <td>13</td>\n",
       "      <td>1980-01-01 00:00:00</td>\n",
       "      <td>1</td>\n",
       "      <td>fr</td>\n",
       "      <td>Oui</td>\n",
       "      <td>Oui</td>\n",
       "      <td>5.0</td>\n",
       "      <td>Plus libre (je peux parler à Landmanbot presqu...</td>\n",
       "      <td>NaN</td>\n",
       "      <td>NaN</td>\n",
       "      <td>NaN</td>\n",
       "    </tr>\n",
       "    <tr>\n",
       "      <th>1</th>\n",
       "      <td>14</td>\n",
       "      <td>1980-01-01 00:00:00</td>\n",
       "      <td>1</td>\n",
       "      <td>fr</td>\n",
       "      <td>Non</td>\n",
       "      <td>NaN</td>\n",
       "      <td>NaN</td>\n",
       "      <td>NaN</td>\n",
       "      <td>NaN</td>\n",
       "      <td>98zh87z</td>\n",
       "      <td>NaN</td>\n",
       "    </tr>\n",
       "    <tr>\n",
       "      <th>2</th>\n",
       "      <td>15</td>\n",
       "      <td>NaN</td>\n",
       "      <td>1</td>\n",
       "      <td>fr</td>\n",
       "      <td>NaN</td>\n",
       "      <td>NaN</td>\n",
       "      <td>NaN</td>\n",
       "      <td>NaN</td>\n",
       "      <td>NaN</td>\n",
       "      <td>NaN</td>\n",
       "      <td>NaN</td>\n",
       "    </tr>\n",
       "    <tr>\n",
       "      <th>3</th>\n",
       "      <td>16</td>\n",
       "      <td>1980-01-01 00:00:00</td>\n",
       "      <td>1</td>\n",
       "      <td>fr</td>\n",
       "      <td>Oui</td>\n",
       "      <td>Oui</td>\n",
       "      <td>6.0</td>\n",
       "      <td>Plus libre (je peux parler à Landmanbot presqu...</td>\n",
       "      <td>Ptoif</td>\n",
       "      <td>NaN</td>\n",
       "      <td>NaN</td>\n",
       "    </tr>\n",
       "    <tr>\n",
       "      <th>4</th>\n",
       "      <td>17</td>\n",
       "      <td>1980-01-01 00:00:00</td>\n",
       "      <td>1</td>\n",
       "      <td>fr</td>\n",
       "      <td>Oui</td>\n",
       "      <td>Oui</td>\n",
       "      <td>6.0</td>\n",
       "      <td>Plus libre (je peux parler à Landmanbot presqu...</td>\n",
       "      <td>NaN</td>\n",
       "      <td>NaN</td>\n",
       "      <td>NaN</td>\n",
       "    </tr>\n",
       "  </tbody>\n",
       "</table>\n",
       "</div>"
      ],
      "text/plain": [
       "   id                 date  lastPage language usedBot infoFound  ansQuality  \\\n",
       "0  13  1980-01-01 00:00:00         1       fr     Oui       Oui         5.0   \n",
       "1  14  1980-01-01 00:00:00         1       fr     Non       NaN         NaN   \n",
       "2  15                  NaN         1       fr     NaN       NaN         NaN   \n",
       "3  16  1980-01-01 00:00:00         1       fr     Oui       Oui         6.0   \n",
       "4  17  1980-01-01 00:00:00         1       fr     Oui       Oui         6.0   \n",
       "\n",
       "                                          moreGuided remarks whyNotUseBot  \\\n",
       "0  Plus libre (je peux parler à Landmanbot presqu...     NaN          NaN   \n",
       "1                                                NaN     NaN      98zh87z   \n",
       "2                                                NaN     NaN          NaN   \n",
       "3  Plus libre (je peux parler à Landmanbot presqu...   Ptoif          NaN   \n",
       "4  Plus libre (je peux parler à Landmanbot presqu...     NaN          NaN   \n",
       "\n",
       "   missingToUseBot  \n",
       "0              NaN  \n",
       "1              NaN  \n",
       "2              NaN  \n",
       "3              NaN  \n",
       "4              NaN  "
      ]
     },
     "execution_count": 65,
     "metadata": {},
     "output_type": "execute_result"
    }
   ],
   "source": [
    "# rename columns\n",
    "df_edt = df_raw.rename(index=str, columns={\"ID de la réponse\": \"id\"\n",
    "                                                  , \"Date de soumission\": \"date\"\n",
    "                                                  , \"Dernière page\": \"lastPage\"\n",
    "                                                  , \"Langue de départ\": \"language\"\n",
    "                                                  , \"Avez-vous utilisé Landmanbot -\": \"usedBot\"\n",
    "                                                  , \"Avez-vous trouvé les informations que vous cherchiez -\": \"infoFound\"\n",
    "                                                  , \"La qualité des réponses et du service vous a-t-elle convenu - []\":\"ansQuality\"\n",
    "                                                  , \"Auriez-vous préféré une expérience plus libre ou plus guidée -\":\"moreGuided\"\n",
    "                                                  , \"Aves-vous des remarques ou des suggestions d'amélioration -\":\"remarks\"\n",
    "                                                  , \"Pourquoi n'avez-vous pas utilisé Landmanbot -\":\"whyNotUseBot\"\n",
    "                                                  , \"Qu'est-ce qu'il manque pour que vous l'utilisiez -\":\"missingToUseBot\"})\n",
    "df_edt.head()"
   ]
  },
  {
   "cell_type": "code",
   "execution_count": 66,
   "metadata": {},
   "outputs": [
    {
     "name": "stdout",
     "output_type": "stream",
     "text": [
      "<class 'pandas.core.frame.DataFrame'>\n",
      "Index: 110 entries, 0 to 109\n",
      "Data columns (total 11 columns):\n",
      "id                 110 non-null int64\n",
      "date               20 non-null object\n",
      "lastPage           110 non-null int64\n",
      "language           110 non-null object\n",
      "usedBot            20 non-null object\n",
      "infoFound          18 non-null object\n",
      "ansQuality         19 non-null float64\n",
      "moreGuided         19 non-null object\n",
      "remarks            8 non-null object\n",
      "whyNotUseBot       1 non-null object\n",
      "missingToUseBot    0 non-null float64\n",
      "dtypes: float64(2), int64(2), object(7)\n",
      "memory usage: 10.3+ KB\n"
     ]
    }
   ],
   "source": [
    "df_edt.info()"
   ]
  },
  {
   "cell_type": "code",
   "execution_count": 67,
   "metadata": {},
   "outputs": [
    {
     "data": {
      "text/html": [
       "<div>\n",
       "<style>\n",
       "    .dataframe thead tr:only-child th {\n",
       "        text-align: right;\n",
       "    }\n",
       "\n",
       "    .dataframe thead th {\n",
       "        text-align: left;\n",
       "    }\n",
       "\n",
       "    .dataframe tbody tr th {\n",
       "        vertical-align: top;\n",
       "    }\n",
       "</style>\n",
       "<table border=\"1\" class=\"dataframe\">\n",
       "  <thead>\n",
       "    <tr style=\"text-align: right;\">\n",
       "      <th></th>\n",
       "      <th>id</th>\n",
       "      <th>date</th>\n",
       "      <th>lastPage</th>\n",
       "      <th>language</th>\n",
       "      <th>usedBot</th>\n",
       "      <th>infoFound</th>\n",
       "      <th>ansQuality</th>\n",
       "      <th>moreGuided</th>\n",
       "      <th>remarks</th>\n",
       "      <th>whyNotUseBot</th>\n",
       "      <th>missingToUseBot</th>\n",
       "    </tr>\n",
       "  </thead>\n",
       "  <tbody>\n",
       "    <tr>\n",
       "      <th>0</th>\n",
       "      <td>13</td>\n",
       "      <td>1980-01-01 00:00:00</td>\n",
       "      <td>1</td>\n",
       "      <td>fr</td>\n",
       "      <td>Oui</td>\n",
       "      <td>Oui</td>\n",
       "      <td>5.0</td>\n",
       "      <td>Plus libre (je peux parler à Landmanbot presqu...</td>\n",
       "      <td>NaN</td>\n",
       "      <td>NaN</td>\n",
       "      <td>NaN</td>\n",
       "    </tr>\n",
       "    <tr>\n",
       "      <th>1</th>\n",
       "      <td>14</td>\n",
       "      <td>1980-01-01 00:00:00</td>\n",
       "      <td>1</td>\n",
       "      <td>fr</td>\n",
       "      <td>Non</td>\n",
       "      <td>NaN</td>\n",
       "      <td>NaN</td>\n",
       "      <td>NaN</td>\n",
       "      <td>NaN</td>\n",
       "      <td>98zh87z</td>\n",
       "      <td>NaN</td>\n",
       "    </tr>\n",
       "    <tr>\n",
       "      <th>3</th>\n",
       "      <td>16</td>\n",
       "      <td>1980-01-01 00:00:00</td>\n",
       "      <td>1</td>\n",
       "      <td>fr</td>\n",
       "      <td>Oui</td>\n",
       "      <td>Oui</td>\n",
       "      <td>6.0</td>\n",
       "      <td>Plus libre (je peux parler à Landmanbot presqu...</td>\n",
       "      <td>Ptoif</td>\n",
       "      <td>NaN</td>\n",
       "      <td>NaN</td>\n",
       "    </tr>\n",
       "    <tr>\n",
       "      <th>4</th>\n",
       "      <td>17</td>\n",
       "      <td>1980-01-01 00:00:00</td>\n",
       "      <td>1</td>\n",
       "      <td>fr</td>\n",
       "      <td>Oui</td>\n",
       "      <td>Oui</td>\n",
       "      <td>6.0</td>\n",
       "      <td>Plus libre (je peux parler à Landmanbot presqu...</td>\n",
       "      <td>NaN</td>\n",
       "      <td>NaN</td>\n",
       "      <td>NaN</td>\n",
       "    </tr>\n",
       "    <tr>\n",
       "      <th>6</th>\n",
       "      <td>19</td>\n",
       "      <td>1980-01-01 00:00:00</td>\n",
       "      <td>1</td>\n",
       "      <td>fr</td>\n",
       "      <td>Oui</td>\n",
       "      <td>Oui</td>\n",
       "      <td>1.0</td>\n",
       "      <td>Plus libre (je peux parler à Landmanbot presqu...</td>\n",
       "      <td>ztjhe563</td>\n",
       "      <td>NaN</td>\n",
       "      <td>NaN</td>\n",
       "    </tr>\n",
       "  </tbody>\n",
       "</table>\n",
       "</div>"
      ],
      "text/plain": [
       "   id                 date  lastPage language usedBot infoFound  ansQuality  \\\n",
       "0  13  1980-01-01 00:00:00         1       fr     Oui       Oui         5.0   \n",
       "1  14  1980-01-01 00:00:00         1       fr     Non       NaN         NaN   \n",
       "3  16  1980-01-01 00:00:00         1       fr     Oui       Oui         6.0   \n",
       "4  17  1980-01-01 00:00:00         1       fr     Oui       Oui         6.0   \n",
       "6  19  1980-01-01 00:00:00         1       fr     Oui       Oui         1.0   \n",
       "\n",
       "                                          moreGuided   remarks whyNotUseBot  \\\n",
       "0  Plus libre (je peux parler à Landmanbot presqu...       NaN          NaN   \n",
       "1                                                NaN       NaN      98zh87z   \n",
       "3  Plus libre (je peux parler à Landmanbot presqu...     Ptoif          NaN   \n",
       "4  Plus libre (je peux parler à Landmanbot presqu...       NaN          NaN   \n",
       "6  Plus libre (je peux parler à Landmanbot presqu...  ztjhe563          NaN   \n",
       "\n",
       "   missingToUseBot  \n",
       "0              NaN  \n",
       "1              NaN  \n",
       "3              NaN  \n",
       "4              NaN  \n",
       "6              NaN  "
      ]
     },
     "execution_count": 67,
     "metadata": {},
     "output_type": "execute_result"
    }
   ],
   "source": [
    "# drop rows with no datetime\n",
    "df_edt.dropna(axis=0, how='any', thresh=None, subset=['date'], inplace=True)\n",
    "df_edt.head()"
   ]
  },
  {
   "cell_type": "code",
   "execution_count": 68,
   "metadata": {},
   "outputs": [
    {
     "data": {
      "text/plain": [
       "20"
      ]
     },
     "execution_count": 68,
     "metadata": {},
     "output_type": "execute_result"
    }
   ],
   "source": [
    "len(df_edt)"
   ]
  },
  {
   "cell_type": "code",
   "execution_count": 69,
   "metadata": {},
   "outputs": [],
   "source": [
    "# replace oui/non/NaN with 1/0/-999.25\n",
    "df_edt['usedBot'].replace(regex=True,inplace=True,to_replace='Oui',value='1')\n",
    "df_edt['usedBot'].replace(regex=True,inplace=True,to_replace='Non',value='0')\n",
    "df_edt['usedBot'].replace(regex=True,inplace=True,to_replace=np.nan,value='-999.25')\n",
    "df_edt['infoFound'].replace(regex=True,inplace=True,to_replace='Oui',value='1')\n",
    "df_edt['infoFound'].replace(regex=True,inplace=True,to_replace='Non',value='0')\n",
    "df_edt['infoFound'].replace(regex=True,inplace=True,to_replace=np.nan,value='-999.25')"
   ]
  },
  {
   "cell_type": "code",
   "execution_count": 70,
   "metadata": {},
   "outputs": [
    {
     "data": {
      "text/html": [
       "<div>\n",
       "<style>\n",
       "    .dataframe thead tr:only-child th {\n",
       "        text-align: right;\n",
       "    }\n",
       "\n",
       "    .dataframe thead th {\n",
       "        text-align: left;\n",
       "    }\n",
       "\n",
       "    .dataframe tbody tr th {\n",
       "        vertical-align: top;\n",
       "    }\n",
       "</style>\n",
       "<table border=\"1\" class=\"dataframe\">\n",
       "  <thead>\n",
       "    <tr style=\"text-align: right;\">\n",
       "      <th></th>\n",
       "      <th>id</th>\n",
       "      <th>date</th>\n",
       "      <th>lastPage</th>\n",
       "      <th>language</th>\n",
       "      <th>usedBot</th>\n",
       "      <th>infoFound</th>\n",
       "      <th>ansQuality</th>\n",
       "      <th>moreGuided</th>\n",
       "      <th>remarks</th>\n",
       "      <th>whyNotUseBot</th>\n",
       "      <th>missingToUseBot</th>\n",
       "    </tr>\n",
       "  </thead>\n",
       "  <tbody>\n",
       "    <tr>\n",
       "      <th>0</th>\n",
       "      <td>13</td>\n",
       "      <td>1980-01-01 00:00:00</td>\n",
       "      <td>1</td>\n",
       "      <td>fr</td>\n",
       "      <td>1</td>\n",
       "      <td>1</td>\n",
       "      <td>5.0</td>\n",
       "      <td>Plus libre (je peux parler à Landmanbot presqu...</td>\n",
       "      <td>NaN</td>\n",
       "      <td>NaN</td>\n",
       "      <td>NaN</td>\n",
       "    </tr>\n",
       "    <tr>\n",
       "      <th>1</th>\n",
       "      <td>14</td>\n",
       "      <td>1980-01-01 00:00:00</td>\n",
       "      <td>1</td>\n",
       "      <td>fr</td>\n",
       "      <td>0</td>\n",
       "      <td>-999.25</td>\n",
       "      <td>NaN</td>\n",
       "      <td>NaN</td>\n",
       "      <td>NaN</td>\n",
       "      <td>98zh87z</td>\n",
       "      <td>NaN</td>\n",
       "    </tr>\n",
       "    <tr>\n",
       "      <th>3</th>\n",
       "      <td>16</td>\n",
       "      <td>1980-01-01 00:00:00</td>\n",
       "      <td>1</td>\n",
       "      <td>fr</td>\n",
       "      <td>1</td>\n",
       "      <td>1</td>\n",
       "      <td>6.0</td>\n",
       "      <td>Plus libre (je peux parler à Landmanbot presqu...</td>\n",
       "      <td>Ptoif</td>\n",
       "      <td>NaN</td>\n",
       "      <td>NaN</td>\n",
       "    </tr>\n",
       "    <tr>\n",
       "      <th>4</th>\n",
       "      <td>17</td>\n",
       "      <td>1980-01-01 00:00:00</td>\n",
       "      <td>1</td>\n",
       "      <td>fr</td>\n",
       "      <td>1</td>\n",
       "      <td>1</td>\n",
       "      <td>6.0</td>\n",
       "      <td>Plus libre (je peux parler à Landmanbot presqu...</td>\n",
       "      <td>NaN</td>\n",
       "      <td>NaN</td>\n",
       "      <td>NaN</td>\n",
       "    </tr>\n",
       "    <tr>\n",
       "      <th>6</th>\n",
       "      <td>19</td>\n",
       "      <td>1980-01-01 00:00:00</td>\n",
       "      <td>1</td>\n",
       "      <td>fr</td>\n",
       "      <td>1</td>\n",
       "      <td>1</td>\n",
       "      <td>1.0</td>\n",
       "      <td>Plus libre (je peux parler à Landmanbot presqu...</td>\n",
       "      <td>ztjhe563</td>\n",
       "      <td>NaN</td>\n",
       "      <td>NaN</td>\n",
       "    </tr>\n",
       "  </tbody>\n",
       "</table>\n",
       "</div>"
      ],
      "text/plain": [
       "   id                 date  lastPage language usedBot infoFound  ansQuality  \\\n",
       "0  13  1980-01-01 00:00:00         1       fr       1         1         5.0   \n",
       "1  14  1980-01-01 00:00:00         1       fr       0   -999.25         NaN   \n",
       "3  16  1980-01-01 00:00:00         1       fr       1         1         6.0   \n",
       "4  17  1980-01-01 00:00:00         1       fr       1         1         6.0   \n",
       "6  19  1980-01-01 00:00:00         1       fr       1         1         1.0   \n",
       "\n",
       "                                          moreGuided   remarks whyNotUseBot  \\\n",
       "0  Plus libre (je peux parler à Landmanbot presqu...       NaN          NaN   \n",
       "1                                                NaN       NaN      98zh87z   \n",
       "3  Plus libre (je peux parler à Landmanbot presqu...     Ptoif          NaN   \n",
       "4  Plus libre (je peux parler à Landmanbot presqu...       NaN          NaN   \n",
       "6  Plus libre (je peux parler à Landmanbot presqu...  ztjhe563          NaN   \n",
       "\n",
       "   missingToUseBot  \n",
       "0              NaN  \n",
       "1              NaN  \n",
       "3              NaN  \n",
       "4              NaN  \n",
       "6              NaN  "
      ]
     },
     "execution_count": 70,
     "metadata": {},
     "output_type": "execute_result"
    }
   ],
   "source": [
    "df_edt.head()"
   ]
  },
  {
   "cell_type": "code",
   "execution_count": 71,
   "metadata": {},
   "outputs": [
    {
     "data": {
      "text/plain": [
       "id                 20\n",
       "date                1\n",
       "lastPage            1\n",
       "language            1\n",
       "usedBot             2\n",
       "infoFound           3\n",
       "ansQuality          5\n",
       "moreGuided          2\n",
       "remarks             8\n",
       "whyNotUseBot        1\n",
       "missingToUseBot     0\n",
       "dtype: int64"
      ]
     },
     "execution_count": 71,
     "metadata": {},
     "output_type": "execute_result"
    }
   ],
   "source": [
    "df_edt.nunique()"
   ]
  },
  {
   "cell_type": "code",
   "execution_count": 72,
   "metadata": {},
   "outputs": [
    {
     "data": {
      "text/plain": [
       "5.0    8\n",
       "6.0    5\n",
       "1.0    1\n",
       "4.0    3\n",
       "2.0    2\n",
       "dtype: int64"
      ]
     },
     "execution_count": 72,
     "metadata": {},
     "output_type": "execute_result"
    }
   ],
   "source": [
    "# fractions of each value\n",
    "#df_edt[df_edt['answQuality'] == 4]\n",
    "fracs = pd.value_counts(df_edt['ansQuality'].values, sort=False)\n",
    "fracs"
   ]
  },
  {
   "cell_type": "code",
   "execution_count": 73,
   "metadata": {},
   "outputs": [
    {
     "data": {
      "image/png": "[encoded data removed]",
      "text/plain": [
       "<matplotlib.figure.Figure at 0x112647240>"
      ]
     },
     "metadata": {},
     "output_type": "display_data"
    }
   ],
   "source": [
    "# pieplot of ansQuality\n",
    "# Data to plot\n",
    "labels = '1','2','4','5','6'\n",
    "sizes = [1,2,3,8,5]\n",
    "\n",
    "colors = ['gold', 'yellowgreen', 'lightcoral', 'lightskyblue', 'lightgrey']\n",
    "explode = (0, 0, 0, 0, 0)  # explode 1st slice\n",
    " \n",
    "# Plot\n",
    "plt.pie(sizes, explode=explode, labels=labels, colors=colors,\n",
    "        autopct='%1.1f%%', shadow=False, startangle=0)\n",
    "\n",
    "plt.title('PiePlot of ansQuality')\n",
    "plt.axis('equal')\n",
    "plt.show()\n"
   ]
  },
  {
   "cell_type": "code",
   "execution_count": 76,
   "metadata": {},
   "outputs": [
    {
     "data": {
      "text/html": [
       "<div>\n",
       "<style>\n",
       "    .dataframe thead tr:only-child th {\n",
       "        text-align: right;\n",
       "    }\n",
       "\n",
       "    .dataframe thead th {\n",
       "        text-align: left;\n",
       "    }\n",
       "\n",
       "    .dataframe tbody tr th {\n",
       "        vertical-align: top;\n",
       "    }\n",
       "</style>\n",
       "<table border=\"1\" class=\"dataframe\">\n",
       "  <thead>\n",
       "    <tr style=\"text-align: right;\">\n",
       "      <th></th>\n",
       "      <th>id</th>\n",
       "      <th>date</th>\n",
       "      <th>lastPage</th>\n",
       "      <th>language</th>\n",
       "      <th>usedBot</th>\n",
       "      <th>infoFound</th>\n",
       "      <th>ansQuality</th>\n",
       "      <th>moreGuided</th>\n",
       "      <th>remarks</th>\n",
       "      <th>whyNotUseBot</th>\n",
       "      <th>missingToUseBot</th>\n",
       "    </tr>\n",
       "  </thead>\n",
       "  <tbody>\n",
       "    <tr>\n",
       "      <th>0</th>\n",
       "      <td>13</td>\n",
       "      <td>1980-01-01 00:00:00</td>\n",
       "      <td>1</td>\n",
       "      <td>fr</td>\n",
       "      <td>1</td>\n",
       "      <td>1</td>\n",
       "      <td>5.0</td>\n",
       "      <td>Plus libre (je peux parler à Landmanbot presqu...</td>\n",
       "      <td>NaN</td>\n",
       "      <td>NaN</td>\n",
       "      <td>NaN</td>\n",
       "    </tr>\n",
       "    <tr>\n",
       "      <th>1</th>\n",
       "      <td>14</td>\n",
       "      <td>1980-01-01 00:00:00</td>\n",
       "      <td>1</td>\n",
       "      <td>fr</td>\n",
       "      <td>0</td>\n",
       "      <td>-999.25</td>\n",
       "      <td>NaN</td>\n",
       "      <td>NaN</td>\n",
       "      <td>NaN</td>\n",
       "      <td>98zh87z</td>\n",
       "      <td>NaN</td>\n",
       "    </tr>\n",
       "    <tr>\n",
       "      <th>3</th>\n",
       "      <td>16</td>\n",
       "      <td>1980-01-01 00:00:00</td>\n",
       "      <td>1</td>\n",
       "      <td>fr</td>\n",
       "      <td>1</td>\n",
       "      <td>1</td>\n",
       "      <td>6.0</td>\n",
       "      <td>Plus libre (je peux parler à Landmanbot presqu...</td>\n",
       "      <td>Ptoif</td>\n",
       "      <td>NaN</td>\n",
       "      <td>NaN</td>\n",
       "    </tr>\n",
       "    <tr>\n",
       "      <th>4</th>\n",
       "      <td>17</td>\n",
       "      <td>1980-01-01 00:00:00</td>\n",
       "      <td>1</td>\n",
       "      <td>fr</td>\n",
       "      <td>1</td>\n",
       "      <td>1</td>\n",
       "      <td>6.0</td>\n",
       "      <td>Plus libre (je peux parler à Landmanbot presqu...</td>\n",
       "      <td>NaN</td>\n",
       "      <td>NaN</td>\n",
       "      <td>NaN</td>\n",
       "    </tr>\n",
       "    <tr>\n",
       "      <th>6</th>\n",
       "      <td>19</td>\n",
       "      <td>1980-01-01 00:00:00</td>\n",
       "      <td>1</td>\n",
       "      <td>fr</td>\n",
       "      <td>1</td>\n",
       "      <td>1</td>\n",
       "      <td>1.0</td>\n",
       "      <td>Plus libre (je peux parler à Landmanbot presqu...</td>\n",
       "      <td>ztjhe563</td>\n",
       "      <td>NaN</td>\n",
       "      <td>NaN</td>\n",
       "    </tr>\n",
       "  </tbody>\n",
       "</table>\n",
       "</div>"
      ],
      "text/plain": [
       "   id                 date  lastPage language usedBot infoFound  ansQuality  \\\n",
       "0  13  1980-01-01 00:00:00         1       fr       1         1         5.0   \n",
       "1  14  1980-01-01 00:00:00         1       fr       0   -999.25         NaN   \n",
       "3  16  1980-01-01 00:00:00         1       fr       1         1         6.0   \n",
       "4  17  1980-01-01 00:00:00         1       fr       1         1         6.0   \n",
       "6  19  1980-01-01 00:00:00         1       fr       1         1         1.0   \n",
       "\n",
       "                                          moreGuided   remarks whyNotUseBot  \\\n",
       "0  Plus libre (je peux parler à Landmanbot presqu...       NaN          NaN   \n",
       "1                                                NaN       NaN      98zh87z   \n",
       "3  Plus libre (je peux parler à Landmanbot presqu...     Ptoif          NaN   \n",
       "4  Plus libre (je peux parler à Landmanbot presqu...       NaN          NaN   \n",
       "6  Plus libre (je peux parler à Landmanbot presqu...  ztjhe563          NaN   \n",
       "\n",
       "   missingToUseBot  \n",
       "0              NaN  \n",
       "1              NaN  \n",
       "3              NaN  \n",
       "4              NaN  \n",
       "6              NaN  "
      ]
     },
     "execution_count": 76,
     "metadata": {},
     "output_type": "execute_result"
    }
   ],
   "source": [
    "df_edt.head()"
   ]
  },
  {
   "cell_type": "code",
   "execution_count": 82,
   "metadata": {},
   "outputs": [
    {
     "data": {
      "text/plain": [
       "19"
      ]
     },
     "execution_count": 82,
     "metadata": {},
     "output_type": "execute_result"
    }
   ],
   "source": [
    "# nb of respondants who used bot\n",
    "countUsedBot = len(df_edt[(df_edt['usedBot'] == '1')])\n",
    "countUsedBot"
   ]
  },
  {
   "cell_type": "code",
   "execution_count": 83,
   "metadata": {},
   "outputs": [
    {
     "data": {
      "text/plain": [
       "17"
      ]
     },
     "execution_count": 83,
     "metadata": {},
     "output_type": "execute_result"
    }
   ],
   "source": [
    "# nb of respondants who found info\n",
    "countInfoFound = len(df_edt[(df_edt['infoFound'] == '1')])\n",
    "countInfoFound"
   ]
  },
  {
   "cell_type": "code",
   "execution_count": 119,
   "metadata": {},
   "outputs": [
    {
     "data": {
      "text/plain": [
       "(1, 2, 0, 3, 8, 5)"
      ]
     },
     "execution_count": 119,
     "metadata": {},
     "output_type": "execute_result"
    }
   ],
   "source": [
    "# counts for each vote\n",
    "countAnsQual_1 = len(df_edt[(df_edt['ansQuality'] == 1)])\n",
    "countAnsQual_2 = len(df_edt[(df_edt['ansQuality'] == 2)])\n",
    "countAnsQual_3 = len(df_edt[(df_edt['ansQuality'] == 3)])\n",
    "countAnsQual_4 = len(df_edt[(df_edt['ansQuality'] == 4)])\n",
    "countAnsQual_5 = len(df_edt[(df_edt['ansQuality'] == 5)])\n",
    "countAnsQual_6 = len(df_edt[(df_edt['ansQuality'] == 6)])\n",
    "inputList = countAnsQual_1,countAnsQual_2,countAnsQual_3,countAnsQual_4,countAnsQual_5,countAnsQual_6\n",
    "inputList"
   ]
  },
  {
   "cell_type": "code",
   "execution_count": 80,
   "metadata": {},
   "outputs": [
    {
     "data": {
      "text/plain": [
       "19"
      ]
     },
     "execution_count": 80,
     "metadata": {},
     "output_type": "execute_result"
    }
   ],
   "source": [
    "# check total must = 19\n",
    "countAnsQual_1+countAnsQual_2+countAnsQual_3+countAnsQual_4+countAnsQual_5+countAnsQual_6"
   ]
  },
  {
   "cell_type": "code",
   "execution_count": 175,
   "metadata": {},
   "outputs": [
    {
     "data": {
      "image/png": "[encoded data removed]",
      "text/plain": [
       "<matplotlib.figure.Figure at 0x1144c7dd8>"
      ]
     },
     "metadata": {},
     "output_type": "display_data"
    }
   ],
   "source": [
    "# histogram of results\n",
    "# results to nd.array\n",
    "x = np.asarray([[1],[ 1, 1],[], [1, 1, 1], [1, 1, 1, 1, 1, 1, 1, 1], [1, 1, 1, 1, 1]])\n",
    "ind = (1.025,1.05,1.075,1.1,1.125,1.150)\n",
    "n, bins, patches = plt.hist(x, 6, facecolor='b')\n",
    "plt.xlabel('Score attributed by respondant')\n",
    "plt.xticks(ind, ('1','2','3','4','5','6'))\n",
    "plt.ylabel('Count of scores attributed')\n",
    "plt.title('Histogram of answer quality scores')\n",
    "plt.axis([1.025, 1.15, 0, 6])\n",
    "plt.grid(True)\n",
    "plt.show()"
   ]
  },
  {
   "cell_type": "code",
   "execution_count": null,
   "metadata": {
    "collapsed": true
   },
   "outputs": [],
   "source": []
  }
 ],
 "metadata": {
  "kernelspec": {
   "display_name": "Python [default]",
   "language": "python",
   "name": "python3"
  },
  "language_info": {
   "codemirror_mode": {
    "name": "ipython",
    "version": 3
   },
   "file_extension": ".py",
   "mimetype": "text/x-python",
   "name": "python",
   "nbconvert_exporter": "python",
   "pygments_lexer": "ipython3",
   "version": "3.6.4"
  }
 },
 "nbformat": 4,
 "nbformat_minor": 2
}
