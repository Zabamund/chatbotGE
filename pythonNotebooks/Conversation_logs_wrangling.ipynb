{
 "cells": [
  {
   "cell_type": "markdown",
   "metadata": {},
   "source": [
    "# Landmanbot1 conversation log wrangling\n",
    "\n",
    "Conversations are downloaded from the bot list page.\n",
    "bot>hamburgerMenu>Export Converstion Log>Bot OR Intent conversation log>Time period\n"
   ]
  },
  {
   "cell_type": "code",
   "execution_count": 237,
   "metadata": {
    "collapsed": true
   },
   "outputs": [],
   "source": [
    "# imports libraries\n",
    "import pandas as pd"
   ]
  },
  {
   "cell_type": "code",
   "execution_count": 238,
   "metadata": {},
   "outputs": [
    {
     "data": {
      "text/html": [
       "<div>\n",
       "<style>\n",
       "    .dataframe thead tr:only-child th {\n",
       "        text-align: right;\n",
       "    }\n",
       "\n",
       "    .dataframe thead th {\n",
       "        text-align: left;\n",
       "    }\n",
       "\n",
       "    .dataframe tbody tr th {\n",
       "        vertical-align: top;\n",
       "    }\n",
       "</style>\n",
       "<table border=\"1\" class=\"dataframe\">\n",
       "  <thead>\n",
       "    <tr style=\"text-align: right;\">\n",
       "      <th></th>\n",
       "      <th>text</th>\n",
       "      <th>choices</th>\n",
       "      <th>source</th>\n",
       "      <th>createdOn</th>\n",
       "      <th>userId</th>\n",
       "      <th>sessionId</th>\n",
       "      <th>botId</th>\n",
       "      <th>channelType</th>\n",
       "      <th>channelId</th>\n",
       "      <th>payload</th>\n",
       "    </tr>\n",
       "  </thead>\n",
       "  <tbody>\n",
       "    <tr>\n",
       "      <th>0</th>\n",
       "      <td>?lus</td>\n",
       "      <td>NaN</td>\n",
       "      <td>USER</td>\n",
       "      <td>2018-04-15T13:52:54.249Z</td>\n",
       "      <td>1188631174572923</td>\n",
       "      <td>1188631174572923</td>\n",
       "      <td>C337424F-C87D-47EF-8C4C-860BBCFFFEB2</td>\n",
       "      <td>webhook</td>\n",
       "      <td>CE2647BB-A3D8-4DBA-88E2-C94F6E48483D</td>\n",
       "      <td>{\"text\":\"?lus\",\"type\":\"text\"}</td>\n",
       "    </tr>\n",
       "    <tr>\n",
       "      <th>1</th>\n",
       "      <td>Your session has expired.  Please start again.</td>\n",
       "      <td>NaN</td>\n",
       "      <td>BOT</td>\n",
       "      <td>2018-04-15T13:52:54.268Z</td>\n",
       "      <td>1188631174572923</td>\n",
       "      <td>1188631174572923</td>\n",
       "      <td>C337424F-C87D-47EF-8C4C-860BBCFFFEB2</td>\n",
       "      <td>webhook</td>\n",
       "      <td>CE2647BB-A3D8-4DBA-88E2-C94F6E48483D</td>\n",
       "      <td>{\"text\":\"Your session has expired.  Please sta...</td>\n",
       "    </tr>\n",
       "    <tr>\n",
       "      <th>2</th>\n",
       "      <td>R?sultats</td>\n",
       "      <td>NaN</td>\n",
       "      <td>USER</td>\n",
       "      <td>2018-04-15T13:53:06.344Z</td>\n",
       "      <td>1188631174572923</td>\n",
       "      <td>1188631174572923</td>\n",
       "      <td>C337424F-C87D-47EF-8C4C-860BBCFFFEB2</td>\n",
       "      <td>webhook</td>\n",
       "      <td>CE2647BB-A3D8-4DBA-88E2-C94F6E48483D</td>\n",
       "      <td>{\"text\":\"R?sultats\",\"type\":\"text\"}</td>\n",
       "    </tr>\n",
       "    <tr>\n",
       "      <th>3</th>\n",
       "      <td>Pour quelle ?lection vous voulez les r?sultats ?</td>\n",
       "      <td>Conseil Etat|Grand Conseil</td>\n",
       "      <td>BOT</td>\n",
       "      <td>2018-04-15T13:53:06.456Z</td>\n",
       "      <td>1188631174572923</td>\n",
       "      <td>1188631174572923</td>\n",
       "      <td>C337424F-C87D-47EF-8C4C-860BBCFFFEB2</td>\n",
       "      <td>webhook</td>\n",
       "      <td>CE2647BB-A3D8-4DBA-88E2-C94F6E48483D</td>\n",
       "      <td>{\"text\":\"Pour quelle ?lection vous voulez les ...</td>\n",
       "    </tr>\n",
       "    <tr>\n",
       "      <th>4</th>\n",
       "      <td>Conseil Etat</td>\n",
       "      <td>NaN</td>\n",
       "      <td>USER</td>\n",
       "      <td>2018-04-15T13:53:11.637Z</td>\n",
       "      <td>1188631174572923</td>\n",
       "      <td>1188631174572923</td>\n",
       "      <td>C337424F-C87D-47EF-8C4C-860BBCFFFEB2</td>\n",
       "      <td>webhook</td>\n",
       "      <td>CE2647BB-A3D8-4DBA-88E2-C94F6E48483D</td>\n",
       "      <td>{\"text\":\"Conseil Etat\",\"type\":\"text\"}</td>\n",
       "    </tr>\n",
       "  </tbody>\n",
       "</table>\n",
       "</div>"
      ],
      "text/plain": [
       "                                               text  \\\n",
       "0                                              ?lus   \n",
       "1    Your session has expired.  Please start again.   \n",
       "2                                         R?sultats   \n",
       "3  Pour quelle ?lection vous voulez les r?sultats ?   \n",
       "4                                      Conseil Etat   \n",
       "\n",
       "                      choices source                 createdOn  \\\n",
       "0                         NaN   USER  2018-04-15T13:52:54.249Z   \n",
       "1                         NaN    BOT  2018-04-15T13:52:54.268Z   \n",
       "2                         NaN   USER  2018-04-15T13:53:06.344Z   \n",
       "3  Conseil Etat|Grand Conseil    BOT  2018-04-15T13:53:06.456Z   \n",
       "4                         NaN   USER  2018-04-15T13:53:11.637Z   \n",
       "\n",
       "             userId         sessionId                                 botId  \\\n",
       "0  1188631174572923  1188631174572923  C337424F-C87D-47EF-8C4C-860BBCFFFEB2   \n",
       "1  1188631174572923  1188631174572923  C337424F-C87D-47EF-8C4C-860BBCFFFEB2   \n",
       "2  1188631174572923  1188631174572923  C337424F-C87D-47EF-8C4C-860BBCFFFEB2   \n",
       "3  1188631174572923  1188631174572923  C337424F-C87D-47EF-8C4C-860BBCFFFEB2   \n",
       "4  1188631174572923  1188631174572923  C337424F-C87D-47EF-8C4C-860BBCFFFEB2   \n",
       "\n",
       "  channelType                             channelId  \\\n",
       "0     webhook  CE2647BB-A3D8-4DBA-88E2-C94F6E48483D   \n",
       "1     webhook  CE2647BB-A3D8-4DBA-88E2-C94F6E48483D   \n",
       "2     webhook  CE2647BB-A3D8-4DBA-88E2-C94F6E48483D   \n",
       "3     webhook  CE2647BB-A3D8-4DBA-88E2-C94F6E48483D   \n",
       "4     webhook  CE2647BB-A3D8-4DBA-88E2-C94F6E48483D   \n",
       "\n",
       "                                             payload  \n",
       "0                      {\"text\":\"?lus\",\"type\":\"text\"}  \n",
       "1  {\"text\":\"Your session has expired.  Please sta...  \n",
       "2                 {\"text\":\"R?sultats\",\"type\":\"text\"}  \n",
       "3  {\"text\":\"Pour quelle ?lection vous voulez les ...  \n",
       "4              {\"text\":\"Conseil Etat\",\"type\":\"text\"}  "
      ]
     },
     "execution_count": 238,
     "metadata": {},
     "output_type": "execute_result"
    }
   ],
   "source": [
    "# import files\n",
    "df_conv = pd.read_csv('../electionBot_sBox/GBarth_15apr/conversation_logs/TestLandmanbot1_bot_log.csv', encoding='utf-8')\n",
    "df_conv.head()"
   ]
  },
  {
   "cell_type": "code",
   "execution_count": 239,
   "metadata": {
    "collapsed": true
   },
   "outputs": [],
   "source": [
    "#df_conv[df_conv['text'].str.contains(\"Hello World\", na=False)]"
   ]
  },
  {
   "cell_type": "code",
   "execution_count": 240,
   "metadata": {},
   "outputs": [
    {
     "data": {
      "text/plain": [
       "49"
      ]
     },
     "execution_count": 240,
     "metadata": {},
     "output_type": "execute_result"
    }
   ],
   "source": [
    "# count unique id\n",
    "df_conv.userId.nunique()"
   ]
  },
  {
   "cell_type": "code",
   "execution_count": 241,
   "metadata": {},
   "outputs": [
    {
     "data": {
      "text/plain": [
       "49"
      ]
     },
     "execution_count": 241,
     "metadata": {},
     "output_type": "execute_result"
    }
   ],
   "source": [
    "# count session id\n",
    "df_conv.sessionId.nunique()"
   ]
  },
  {
   "cell_type": "code",
   "execution_count": 242,
   "metadata": {},
   "outputs": [
    {
     "data": {
      "text/plain": [
       "1"
      ]
     },
     "execution_count": 242,
     "metadata": {},
     "output_type": "execute_result"
    }
   ],
   "source": [
    "# count bot id\n",
    "df_conv.botId.nunique()"
   ]
  },
  {
   "cell_type": "code",
   "execution_count": 243,
   "metadata": {},
   "outputs": [
    {
     "data": {
      "text/html": [
       "<div>\n",
       "<style>\n",
       "    .dataframe thead tr:only-child th {\n",
       "        text-align: right;\n",
       "    }\n",
       "\n",
       "    .dataframe thead th {\n",
       "        text-align: left;\n",
       "    }\n",
       "\n",
       "    .dataframe tbody tr th {\n",
       "        vertical-align: top;\n",
       "    }\n",
       "</style>\n",
       "<table border=\"1\" class=\"dataframe\">\n",
       "  <thead>\n",
       "    <tr style=\"text-align: right;\">\n",
       "      <th></th>\n",
       "      <th>text</th>\n",
       "      <th>choices</th>\n",
       "      <th>source</th>\n",
       "      <th>createdOn</th>\n",
       "      <th>userId</th>\n",
       "      <th>sessionId</th>\n",
       "      <th>botId</th>\n",
       "      <th>channelType</th>\n",
       "      <th>channelId</th>\n",
       "      <th>payload</th>\n",
       "    </tr>\n",
       "  </thead>\n",
       "  <tbody>\n",
       "    <tr>\n",
       "      <th>0</th>\n",
       "      <td>?lus</td>\n",
       "      <td>NaN</td>\n",
       "      <td>USER</td>\n",
       "      <td>2018-04-15T13:52:54.249Z</td>\n",
       "      <td>1188631174572923</td>\n",
       "      <td>1188631174572923</td>\n",
       "      <td>C337424F-C87D-47EF-8C4C-860BBCFFFEB2</td>\n",
       "      <td>webhook</td>\n",
       "      <td>CE2647BB-A3D8-4DBA-88E2-C94F6E48483D</td>\n",
       "      <td>{\"text\":\"?lus\",\"type\":\"text\"}</td>\n",
       "    </tr>\n",
       "    <tr>\n",
       "      <th>1</th>\n",
       "      <td>Your session has expired.  Please start again.</td>\n",
       "      <td>NaN</td>\n",
       "      <td>BOT</td>\n",
       "      <td>2018-04-15T13:52:54.268Z</td>\n",
       "      <td>1188631174572923</td>\n",
       "      <td>1188631174572923</td>\n",
       "      <td>C337424F-C87D-47EF-8C4C-860BBCFFFEB2</td>\n",
       "      <td>webhook</td>\n",
       "      <td>CE2647BB-A3D8-4DBA-88E2-C94F6E48483D</td>\n",
       "      <td>{\"text\":\"Your session has expired.  Please sta...</td>\n",
       "    </tr>\n",
       "    <tr>\n",
       "      <th>2</th>\n",
       "      <td>R?sultats</td>\n",
       "      <td>NaN</td>\n",
       "      <td>USER</td>\n",
       "      <td>2018-04-15T13:53:06.344Z</td>\n",
       "      <td>1188631174572923</td>\n",
       "      <td>1188631174572923</td>\n",
       "      <td>C337424F-C87D-47EF-8C4C-860BBCFFFEB2</td>\n",
       "      <td>webhook</td>\n",
       "      <td>CE2647BB-A3D8-4DBA-88E2-C94F6E48483D</td>\n",
       "      <td>{\"text\":\"R?sultats\",\"type\":\"text\"}</td>\n",
       "    </tr>\n",
       "    <tr>\n",
       "      <th>3</th>\n",
       "      <td>Pour quelle ?lection vous voulez les r?sultats ?</td>\n",
       "      <td>Conseil Etat|Grand Conseil</td>\n",
       "      <td>BOT</td>\n",
       "      <td>2018-04-15T13:53:06.456Z</td>\n",
       "      <td>1188631174572923</td>\n",
       "      <td>1188631174572923</td>\n",
       "      <td>C337424F-C87D-47EF-8C4C-860BBCFFFEB2</td>\n",
       "      <td>webhook</td>\n",
       "      <td>CE2647BB-A3D8-4DBA-88E2-C94F6E48483D</td>\n",
       "      <td>{\"text\":\"Pour quelle ?lection vous voulez les ...</td>\n",
       "    </tr>\n",
       "  </tbody>\n",
       "</table>\n",
       "</div>"
      ],
      "text/plain": [
       "                                               text  \\\n",
       "0                                              ?lus   \n",
       "1    Your session has expired.  Please start again.   \n",
       "2                                         R?sultats   \n",
       "3  Pour quelle ?lection vous voulez les r?sultats ?   \n",
       "\n",
       "                      choices source                 createdOn  \\\n",
       "0                         NaN   USER  2018-04-15T13:52:54.249Z   \n",
       "1                         NaN    BOT  2018-04-15T13:52:54.268Z   \n",
       "2                         NaN   USER  2018-04-15T13:53:06.344Z   \n",
       "3  Conseil Etat|Grand Conseil    BOT  2018-04-15T13:53:06.456Z   \n",
       "\n",
       "             userId         sessionId                                 botId  \\\n",
       "0  1188631174572923  1188631174572923  C337424F-C87D-47EF-8C4C-860BBCFFFEB2   \n",
       "1  1188631174572923  1188631174572923  C337424F-C87D-47EF-8C4C-860BBCFFFEB2   \n",
       "2  1188631174572923  1188631174572923  C337424F-C87D-47EF-8C4C-860BBCFFFEB2   \n",
       "3  1188631174572923  1188631174572923  C337424F-C87D-47EF-8C4C-860BBCFFFEB2   \n",
       "\n",
       "  channelType                             channelId  \\\n",
       "0     webhook  CE2647BB-A3D8-4DBA-88E2-C94F6E48483D   \n",
       "1     webhook  CE2647BB-A3D8-4DBA-88E2-C94F6E48483D   \n",
       "2     webhook  CE2647BB-A3D8-4DBA-88E2-C94F6E48483D   \n",
       "3     webhook  CE2647BB-A3D8-4DBA-88E2-C94F6E48483D   \n",
       "\n",
       "                                             payload  \n",
       "0                      {\"text\":\"?lus\",\"type\":\"text\"}  \n",
       "1  {\"text\":\"Your session has expired.  Please sta...  \n",
       "2                 {\"text\":\"R?sultats\",\"type\":\"text\"}  \n",
       "3  {\"text\":\"Pour quelle ?lection vous voulez les ...  "
      ]
     },
     "execution_count": 243,
     "metadata": {},
     "output_type": "execute_result"
    }
   ],
   "source": [
    "df_conv.iloc[0:4]"
   ]
  },
  {
   "cell_type": "code",
   "execution_count": 244,
   "metadata": {},
   "outputs": [],
   "source": [
    "# replace some \\? by correct accents\n",
    "df_conv['text'].replace(to_replace='\\?lu', value='élu', inplace=True, regex=True)\n",
    "df_conv['text'].replace(to_replace='R\\?sultats', value='Résultats', inplace=True, regex=True)\n",
    "df_conv['text'].replace(to_replace='int\\?resse', value='intéresse', inplace=True, regex=True)\n",
    "df_conv['text'].replace(to_replace='r\\?sultats', value='résultats', inplace=True, regex=True)\n",
    "#df_conv['text'].replace(to_replace=' \\? ', value=' à ', inplace=True, regex=True)\n",
    "df_conv['text'].replace(to_replace='\\?lection', value='élection', inplace=True, regex=True)\n",
    "df_conv['text'].replace(to_replace='\\?t\\? d\\?velopp\\?', value='été développé', inplace=True, regex=True)\n",
    "df_conv['text'].replace(to_replace='anticip\\?s', value='anticipés', inplace=True, regex=True)\n",
    "df_conv['text'].replace(to_replace='Lib\\?raux', value='Libéraux', inplace=True, regex=True)\n",
    "df_conv['text'].replace(to_replace='D\\?sol\\?', value='Désolé', inplace=True, regex=True)\n",
    "df_conv['text'].replace(to_replace='d\\?bute', value='débute', inplace=True, regex=True)\n",
    "df_conv['text'].replace(to_replace='d\\?finitifs', value='définitifs', inplace=True, regex=True)\n",
    "df_conv['text'].replace(to_replace='passionn\\?s', value='passionnés', inplace=True, regex=True)\n",
    "df_conv['text'].replace(to_replace='destin\\?es', value='destinées', inplace=True, regex=True)\n",
    "df_conv['text'].replace(to_replace='probl\\?me', value='problème', inplace=True, regex=True)\n",
    "df_conv['text'].replace(to_replace='\\?lectorale', value='électorale', inplace=True, regex=True)\n",
    "df_conv['text'].replace(to_replace='cl\\?', value='clé', inplace=True, regex=True)\n",
    "df_conv['text'].replace(to_replace='participation \\?', value='participation à', inplace=True, regex=True)\n",
    "df_conv['text'].replace(to_replace='R\\?essayez', value='Réessayez', inplace=True, regex=True)\n",
    "df_conv['text'].replace(to_replace='\\\\n', value=' ', inplace=True, regex=True)\n",
    "df_conv['text'].replace(to_replace='publi\\?s', value='publiés', inplace=True, regex=True)\n",
    "df_conv['text'].replace(to_replace='r\\?pondre', value='répondre', inplace=True, regex=True)"
   ]
  },
  {
   "cell_type": "code",
   "execution_count": 245,
   "metadata": {},
   "outputs": [
    {
     "data": {
      "text/plain": [
       "0                                                élus\n",
       "1      Your session has expired.  Please start again.\n",
       "2                                           Résultats\n",
       "3    Pour quelle élection vous voulez les résultats ?\n",
       "4                                        Conseil Etat\n",
       "Name: text, dtype: object"
      ]
     },
     "execution_count": 245,
     "metadata": {},
     "output_type": "execute_result"
    }
   ],
   "source": [
    "df_conv['text'][0:5]"
   ]
  },
  {
   "cell_type": "code",
   "execution_count": 246,
   "metadata": {
    "collapsed": true
   },
   "outputs": [],
   "source": [
    "df_group = df_conv.groupby(['sessionId','createdOn','source','text']).count()"
   ]
  },
  {
   "cell_type": "code",
   "execution_count": 247,
   "metadata": {},
   "outputs": [
    {
     "data": {
      "text/html": [
       "<div>\n",
       "<style>\n",
       "    .dataframe thead tr:only-child th {\n",
       "        text-align: right;\n",
       "    }\n",
       "\n",
       "    .dataframe thead th {\n",
       "        text-align: left;\n",
       "    }\n",
       "\n",
       "    .dataframe tbody tr th {\n",
       "        vertical-align: top;\n",
       "    }\n",
       "</style>\n",
       "<table border=\"1\" class=\"dataframe\">\n",
       "  <thead>\n",
       "    <tr style=\"text-align: right;\">\n",
       "      <th></th>\n",
       "      <th></th>\n",
       "      <th></th>\n",
       "      <th></th>\n",
       "      <th>choices</th>\n",
       "      <th>userId</th>\n",
       "      <th>botId</th>\n",
       "      <th>channelType</th>\n",
       "      <th>channelId</th>\n",
       "      <th>payload</th>\n",
       "    </tr>\n",
       "    <tr>\n",
       "      <th>sessionId</th>\n",
       "      <th>createdOn</th>\n",
       "      <th>source</th>\n",
       "      <th>text</th>\n",
       "      <th></th>\n",
       "      <th></th>\n",
       "      <th></th>\n",
       "      <th></th>\n",
       "      <th></th>\n",
       "      <th></th>\n",
       "    </tr>\n",
       "  </thead>\n",
       "  <tbody>\n",
       "    <tr>\n",
       "      <th rowspan=\"2\" valign=\"top\">2725532</th>\n",
       "      <th>2018-04-15T10:47:24.167Z</th>\n",
       "      <th>USER</th>\n",
       "      <th>resultats</th>\n",
       "      <td>0</td>\n",
       "      <td>1</td>\n",
       "      <td>1</td>\n",
       "      <td>1</td>\n",
       "      <td>1</td>\n",
       "      <td>1</td>\n",
       "    </tr>\n",
       "    <tr>\n",
       "      <th>2018-04-15T10:47:24.405Z</th>\n",
       "      <th>BOT</th>\n",
       "      <th>Pour quelle élection vous voulez les résultats ?</th>\n",
       "      <td>1</td>\n",
       "      <td>1</td>\n",
       "      <td>1</td>\n",
       "      <td>1</td>\n",
       "      <td>1</td>\n",
       "      <td>1</td>\n",
       "    </tr>\n",
       "    <tr>\n",
       "      <th rowspan=\"3\" valign=\"top\">3827854</th>\n",
       "      <th>2018-04-15T11:10:00.307Z</th>\n",
       "      <th>USER</th>\n",
       "      <th>participation à champel</th>\n",
       "      <td>0</td>\n",
       "      <td>1</td>\n",
       "      <td>1</td>\n",
       "      <td>1</td>\n",
       "      <td>1</td>\n",
       "      <td>1</td>\n",
       "    </tr>\n",
       "    <tr>\n",
       "      <th>2018-04-15T11:10:00.464Z</th>\n",
       "      <th>BOT</th>\n",
       "      <th>Vous ne m'avez pas dit pour quelle élection ?</th>\n",
       "      <td>1</td>\n",
       "      <td>1</td>\n",
       "      <td>1</td>\n",
       "      <td>1</td>\n",
       "      <td>1</td>\n",
       "      <td>1</td>\n",
       "    </tr>\n",
       "    <tr>\n",
       "      <th>2018-04-15T11:10:06.182Z</th>\n",
       "      <th>BOT</th>\n",
       "      <th>Je vous propose :</th>\n",
       "      <td>1</td>\n",
       "      <td>1</td>\n",
       "      <td>1</td>\n",
       "      <td>1</td>\n",
       "      <td>1</td>\n",
       "      <td>1</td>\n",
       "    </tr>\n",
       "  </tbody>\n",
       "</table>\n",
       "</div>"
      ],
      "text/plain": [
       "                                                                                            choices  \\\n",
       "sessionId createdOn                source text                                                        \n",
       "2725532   2018-04-15T10:47:24.167Z USER   resultats                                               0   \n",
       "          2018-04-15T10:47:24.405Z BOT    Pour quelle élection vous voulez les résultats ?        1   \n",
       "3827854   2018-04-15T11:10:00.307Z USER   participation à champel                                 0   \n",
       "          2018-04-15T11:10:00.464Z BOT    Vous ne m'avez pas dit pour quelle élection ?           1   \n",
       "          2018-04-15T11:10:06.182Z BOT    Je vous propose :                                       1   \n",
       "\n",
       "                                                                                            userId  \\\n",
       "sessionId createdOn                source text                                                       \n",
       "2725532   2018-04-15T10:47:24.167Z USER   resultats                                              1   \n",
       "          2018-04-15T10:47:24.405Z BOT    Pour quelle élection vous voulez les résultats ?       1   \n",
       "3827854   2018-04-15T11:10:00.307Z USER   participation à champel                                1   \n",
       "          2018-04-15T11:10:00.464Z BOT    Vous ne m'avez pas dit pour quelle élection ?          1   \n",
       "          2018-04-15T11:10:06.182Z BOT    Je vous propose :                                      1   \n",
       "\n",
       "                                                                                            botId  \\\n",
       "sessionId createdOn                source text                                                      \n",
       "2725532   2018-04-15T10:47:24.167Z USER   resultats                                             1   \n",
       "          2018-04-15T10:47:24.405Z BOT    Pour quelle élection vous voulez les résultats ?      1   \n",
       "3827854   2018-04-15T11:10:00.307Z USER   participation à champel                               1   \n",
       "          2018-04-15T11:10:00.464Z BOT    Vous ne m'avez pas dit pour quelle élection ?         1   \n",
       "          2018-04-15T11:10:06.182Z BOT    Je vous propose :                                     1   \n",
       "\n",
       "                                                                                            channelType  \\\n",
       "sessionId createdOn                source text                                                            \n",
       "2725532   2018-04-15T10:47:24.167Z USER   resultats                                                   1   \n",
       "          2018-04-15T10:47:24.405Z BOT    Pour quelle élection vous voulez les résultats ?            1   \n",
       "3827854   2018-04-15T11:10:00.307Z USER   participation à champel                                     1   \n",
       "          2018-04-15T11:10:00.464Z BOT    Vous ne m'avez pas dit pour quelle élection ?               1   \n",
       "          2018-04-15T11:10:06.182Z BOT    Je vous propose :                                           1   \n",
       "\n",
       "                                                                                            channelId  \\\n",
       "sessionId createdOn                source text                                                          \n",
       "2725532   2018-04-15T10:47:24.167Z USER   resultats                                                 1   \n",
       "          2018-04-15T10:47:24.405Z BOT    Pour quelle élection vous voulez les résultats ?          1   \n",
       "3827854   2018-04-15T11:10:00.307Z USER   participation à champel                                   1   \n",
       "          2018-04-15T11:10:00.464Z BOT    Vous ne m'avez pas dit pour quelle élection ?             1   \n",
       "          2018-04-15T11:10:06.182Z BOT    Je vous propose :                                         1   \n",
       "\n",
       "                                                                                            payload  \n",
       "sessionId createdOn                source text                                                       \n",
       "2725532   2018-04-15T10:47:24.167Z USER   resultats                                               1  \n",
       "          2018-04-15T10:47:24.405Z BOT    Pour quelle élection vous voulez les résultats ?        1  \n",
       "3827854   2018-04-15T11:10:00.307Z USER   participation à champel                                 1  \n",
       "          2018-04-15T11:10:00.464Z BOT    Vous ne m'avez pas dit pour quelle élection ?           1  \n",
       "          2018-04-15T11:10:06.182Z BOT    Je vous propose :                                       1  "
      ]
     },
     "execution_count": 247,
     "metadata": {},
     "output_type": "execute_result"
    }
   ],
   "source": [
    "df_group.iloc[0:5]"
   ]
  },
  {
   "cell_type": "code",
   "execution_count": 248,
   "metadata": {},
   "outputs": [
    {
     "ename": "TypeError",
     "evalue": "'numpy.int64' object is not callable",
     "output_type": "error",
     "traceback": [
      "\u001b[0;31m---------------------------------------------------------------------------\u001b[0m",
      "\u001b[0;31mTypeError\u001b[0m                                 Traceback (most recent call last)",
      "\u001b[0;32m<ipython-input-248-c1911cdcc28d>\u001b[0m in \u001b[0;36m<module>\u001b[0;34m()\u001b[0m\n\u001b[0;32m----> 1\u001b[0;31m \u001b[0mpd\u001b[0m\u001b[0;34m.\u001b[0m\u001b[0mDataFrame\u001b[0m\u001b[0;34m(\u001b[0m\u001b[0mdf_group\u001b[0m\u001b[0;34m.\u001b[0m\u001b[0msize\u001b[0m\u001b[0;34m(\u001b[0m\u001b[0;34m)\u001b[0m\u001b[0;34m.\u001b[0m\u001b[0mreset_index\u001b[0m\u001b[0;34m(\u001b[0m\u001b[0mname\u001b[0m \u001b[0;34m=\u001b[0m \u001b[0;34m\"Group_Count\"\u001b[0m\u001b[0;34m)\u001b[0m\u001b[0;34m)\u001b[0m\u001b[0;34m\u001b[0m\u001b[0m\n\u001b[0m",
      "\u001b[0;31mTypeError\u001b[0m: 'numpy.int64' object is not callable"
     ]
    }
   ],
   "source": [
    "pd.DataFrame(df_group.size().reset_index(name = \"Group_Count\"))"
   ]
  },
  {
   "cell_type": "code",
   "execution_count": null,
   "metadata": {
    "collapsed": true
   },
   "outputs": [],
   "source": []
  }
 ],
 "metadata": {
  "kernelspec": {
   "display_name": "Python [default]",
   "language": "python",
   "name": "python3"
  },
  "language_info": {
   "codemirror_mode": {
    "name": "ipython",
    "version": 3
   },
   "file_extension": ".py",
   "mimetype": "text/x-python",
   "name": "python",
   "nbconvert_exporter": "python",
   "pygments_lexer": "ipython3",
   "version": "3.6.4"
  }
 },
 "nbformat": 4,
 "nbformat_minor": 2
}
