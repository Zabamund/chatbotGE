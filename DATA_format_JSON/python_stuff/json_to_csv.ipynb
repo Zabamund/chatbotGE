{
 "cells": [
  {
   "cell_type": "markdown",
   "metadata": {},
   "source": [
    "### Notebook to convert json to csv\n",
    "The aim of this notebook is to convert json files into csv, to then extract values and save to another csv for import into Oracle chatbot platform."
   ]
  },
  {
   "cell_type": "code",
   "execution_count": 310,
   "metadata": {},
   "outputs": [],
   "source": [
    "# imports and read files\n",
    "import pandas as pd\n",
    "CE_candidats_src = pd.read_json('../CE/datas/2351/CE_infosCandidat.json')\n",
    "GC_candidats_src = pd.read_json('../GC/datas/2353/GC_infosCandidat.json')"
   ]
  },
  {
   "cell_type": "code",
   "execution_count": 311,
   "metadata": {},
   "outputs": [
    {
     "data": {
      "text/html": [
       "<div>\n",
       "<style>\n",
       "    .dataframe thead tr:only-child th {\n",
       "        text-align: right;\n",
       "    }\n",
       "\n",
       "    .dataframe thead th {\n",
       "        text-align: left;\n",
       "    }\n",
       "\n",
       "    .dataframe tbody tr th {\n",
       "        vertical-align: top;\n",
       "    }\n",
       "</style>\n",
       "<table border=\"1\" class=\"dataframe\">\n",
       "  <thead>\n",
       "    <tr style=\"text-align: right;\">\n",
       "      <th></th>\n",
       "      <th>fonction</th>\n",
       "      <th>id</th>\n",
       "      <th>liste</th>\n",
       "      <th>nom</th>\n",
       "      <th>photoUrl</th>\n",
       "      <th>sexe</th>\n",
       "    </tr>\n",
       "  </thead>\n",
       "  <tbody>\n",
       "    <tr>\n",
       "      <th>0</th>\n",
       "      <td>Conseiller-ère d'Etat</td>\n",
       "      <td>20001</td>\n",
       "      <td>{'id': 203, 'noDepot': 3}</td>\n",
       "      <td>WENGER Saliha (Salika)</td>\n",
       "      <td>WENGER_Saliha.jpg</td>\n",
       "      <td>1</td>\n",
       "    </tr>\n",
       "    <tr>\n",
       "      <th>1</th>\n",
       "      <td>Conseiller-ère d'Etat</td>\n",
       "      <td>20002</td>\n",
       "      <td>{'id': 203, 'noDepot': 3}</td>\n",
       "      <td>HALLER Jocelyne</td>\n",
       "      <td>HALLER_Jocelyne.jpg</td>\n",
       "      <td>1</td>\n",
       "    </tr>\n",
       "    <tr>\n",
       "      <th>2</th>\n",
       "      <td>Conseiller-ère d'Etat</td>\n",
       "      <td>20003</td>\n",
       "      <td>{'id': 201, 'noDepot': 1}</td>\n",
       "      <td>EMERY-TORRACINTA Anne</td>\n",
       "      <td>EMERY-TORRACINTA_Anne.jpg</td>\n",
       "      <td>1</td>\n",
       "    </tr>\n",
       "  </tbody>\n",
       "</table>\n",
       "</div>"
      ],
      "text/plain": [
       "                fonction     id                      liste  \\\n",
       "0  Conseiller-ère d'Etat  20001  {'id': 203, 'noDepot': 3}   \n",
       "1  Conseiller-ère d'Etat  20002  {'id': 203, 'noDepot': 3}   \n",
       "2  Conseiller-ère d'Etat  20003  {'id': 201, 'noDepot': 1}   \n",
       "\n",
       "                      nom                   photoUrl  sexe  \n",
       "0  WENGER Saliha (Salika)          WENGER_Saliha.jpg     1  \n",
       "1         HALLER Jocelyne        HALLER_Jocelyne.jpg     1  \n",
       "2   EMERY-TORRACINTA Anne  EMERY-TORRACINTA_Anne.jpg     1  "
      ]
     },
     "execution_count": 311,
     "metadata": {},
     "output_type": "execute_result"
    }
   ],
   "source": [
    "# check CE read in correctly\n",
    "CE_candidats_src.head(3)"
   ]
  },
  {
   "cell_type": "code",
   "execution_count": 312,
   "metadata": {},
   "outputs": [
    {
     "data": {
      "text/html": [
       "<div>\n",
       "<style>\n",
       "    .dataframe thead tr:only-child th {\n",
       "        text-align: right;\n",
       "    }\n",
       "\n",
       "    .dataframe thead th {\n",
       "        text-align: left;\n",
       "    }\n",
       "\n",
       "    .dataframe tbody tr th {\n",
       "        vertical-align: top;\n",
       "    }\n",
       "</style>\n",
       "<table border=\"1\" class=\"dataframe\">\n",
       "  <thead>\n",
       "    <tr style=\"text-align: right;\">\n",
       "      <th></th>\n",
       "      <th>fonction</th>\n",
       "      <th>id</th>\n",
       "      <th>liste</th>\n",
       "      <th>nom</th>\n",
       "      <th>photoUrl</th>\n",
       "      <th>sexe</th>\n",
       "    </tr>\n",
       "  </thead>\n",
       "  <tbody>\n",
       "    <tr>\n",
       "      <th>0</th>\n",
       "      <td>Député-e</td>\n",
       "      <td>10001</td>\n",
       "      <td>{'id': 101, 'noDepot': 1}</td>\n",
       "      <td>PAGANI Rémy</td>\n",
       "      <td>PAGANI_Remy.jpg</td>\n",
       "      <td>0</td>\n",
       "    </tr>\n",
       "    <tr>\n",
       "      <th>1</th>\n",
       "      <td>Député-e</td>\n",
       "      <td>10002</td>\n",
       "      <td>{'id': 101, 'noDepot': 1}</td>\n",
       "      <td>WENGER Saliha (Salika)</td>\n",
       "      <td>WENGER_Saliha.jpg</td>\n",
       "      <td>1</td>\n",
       "    </tr>\n",
       "    <tr>\n",
       "      <th>2</th>\n",
       "      <td>Député-e</td>\n",
       "      <td>10003</td>\n",
       "      <td>{'id': 101, 'noDepot': 1}</td>\n",
       "      <td>ZAUGG Christian</td>\n",
       "      <td>ZAUGG_Christian.jpg</td>\n",
       "      <td>0</td>\n",
       "    </tr>\n",
       "  </tbody>\n",
       "</table>\n",
       "</div>"
      ],
      "text/plain": [
       "   fonction     id                      liste                     nom  \\\n",
       "0  Député-e  10001  {'id': 101, 'noDepot': 1}             PAGANI Rémy   \n",
       "1  Député-e  10002  {'id': 101, 'noDepot': 1}  WENGER Saliha (Salika)   \n",
       "2  Député-e  10003  {'id': 101, 'noDepot': 1}         ZAUGG Christian   \n",
       "\n",
       "              photoUrl  sexe  \n",
       "0      PAGANI_Remy.jpg     0  \n",
       "1    WENGER_Saliha.jpg     1  \n",
       "2  ZAUGG_Christian.jpg     0  "
      ]
     },
     "execution_count": 312,
     "metadata": {},
     "output_type": "execute_result"
    }
   ],
   "source": [
    "# check GC read in correctly\n",
    "GC_candidats_src.head(3)"
   ]
  },
  {
   "cell_type": "code",
   "execution_count": 313,
   "metadata": {},
   "outputs": [],
   "source": [
    "# edit dataframe to extract required info\n",
    "# Entities format: entity,value,synonyms\n",
    "df_CE = CE_candidats_src.drop(['id', 'liste', 'photoUrl','sexe'], axis=1)\n",
    "df_GC = GC_candidats_src.drop(['id', 'liste', 'photoUrl','sexe'], axis=1)"
   ]
  },
  {
   "cell_type": "code",
   "execution_count": 314,
   "metadata": {},
   "outputs": [],
   "source": [
    "# add default synonyms column\n",
    "df_CE['synonyms'] = df_CE['nom']\n",
    "df_GC['synonyms'] = df_GC['nom']"
   ]
  },
  {
   "cell_type": "code",
   "execution_count": 315,
   "metadata": {},
   "outputs": [],
   "source": [
    "# rename columns\n",
    "df_CE.rename(index=str, columns={\"fonction\": \"entity\", \"nom\": \"value\"}, inplace=True)\n",
    "df_GC.rename(index=str, columns={\"fonction\": \"entity\", \"nom\": \"value\"}, inplace=True)"
   ]
  },
  {
   "cell_type": "code",
   "execution_count": 316,
   "metadata": {},
   "outputs": [],
   "source": [
    "# all to lowercase, remove special chars, remove 'dit:' and replace space by colon\n",
    "## FOR CE\n",
    "df_CE.synonyms = df_CE.synonyms.str.lower();\n",
    "df_CE.synonyms = df_CE.synonyms.str.replace(' ',':');\n",
    "df_CE.synonyms = df_CE.synonyms.str.replace('(','');\n",
    "df_CE.synonyms = df_CE.synonyms.str.replace(')','');\n",
    "df_CE.synonyms = df_CE.synonyms.str.replace('dit:','');\n",
    "## FOR GC\n",
    "df_GC.synonyms = df_GC.synonyms.str.lower();\n",
    "df_GC.synonyms = df_GC.synonyms.str.replace(' ',':');\n",
    "df_GC.synonyms = df_GC.synonyms.str.replace('(','');\n",
    "df_GC.synonyms = df_GC.synonyms.str.replace(')','');\n",
    "df_GC.synonyms = df_GC.synonyms.str.replace('dit:','');"
   ]
  },
  {
   "cell_type": "code",
   "execution_count": 317,
   "metadata": {},
   "outputs": [
    {
     "data": {
      "text/html": [
       "<div>\n",
       "<style>\n",
       "    .dataframe thead tr:only-child th {\n",
       "        text-align: right;\n",
       "    }\n",
       "\n",
       "    .dataframe thead th {\n",
       "        text-align: left;\n",
       "    }\n",
       "\n",
       "    .dataframe tbody tr th {\n",
       "        vertical-align: top;\n",
       "    }\n",
       "</style>\n",
       "<table border=\"1\" class=\"dataframe\">\n",
       "  <thead>\n",
       "    <tr style=\"text-align: right;\">\n",
       "      <th></th>\n",
       "      <th>entity</th>\n",
       "      <th>value</th>\n",
       "      <th>synonyms</th>\n",
       "    </tr>\n",
       "  </thead>\n",
       "  <tbody>\n",
       "    <tr>\n",
       "      <th>0</th>\n",
       "      <td>Conseiller-ère d'Etat</td>\n",
       "      <td>WENGER Saliha (Salika)</td>\n",
       "      <td>wenger:saliha:salika</td>\n",
       "    </tr>\n",
       "    <tr>\n",
       "      <th>1</th>\n",
       "      <td>Conseiller-ère d'Etat</td>\n",
       "      <td>HALLER Jocelyne</td>\n",
       "      <td>haller:jocelyne</td>\n",
       "    </tr>\n",
       "    <tr>\n",
       "      <th>2</th>\n",
       "      <td>Conseiller-ère d'Etat</td>\n",
       "      <td>EMERY-TORRACINTA Anne</td>\n",
       "      <td>emery-torracinta:anne</td>\n",
       "    </tr>\n",
       "    <tr>\n",
       "      <th>3</th>\n",
       "      <td>Conseiller-ère d'Etat</td>\n",
       "      <td>APOTHÉLOZ Thierry</td>\n",
       "      <td>apothéloz:thierry</td>\n",
       "    </tr>\n",
       "    <tr>\n",
       "      <th>4</th>\n",
       "      <td>Conseiller-ère d'Etat</td>\n",
       "      <td>SALERNO Sandrine</td>\n",
       "      <td>salerno:sandrine</td>\n",
       "    </tr>\n",
       "  </tbody>\n",
       "</table>\n",
       "</div>"
      ],
      "text/plain": [
       "                  entity                   value               synonyms\n",
       "0  Conseiller-ère d'Etat  WENGER Saliha (Salika)   wenger:saliha:salika\n",
       "1  Conseiller-ère d'Etat         HALLER Jocelyne        haller:jocelyne\n",
       "2  Conseiller-ère d'Etat   EMERY-TORRACINTA Anne  emery-torracinta:anne\n",
       "3  Conseiller-ère d'Etat       APOTHÉLOZ Thierry      apothéloz:thierry\n",
       "4  Conseiller-ère d'Etat        SALERNO Sandrine       salerno:sandrine"
      ]
     },
     "execution_count": 317,
     "metadata": {},
     "output_type": "execute_result"
    }
   ],
   "source": [
    "# check CE output\n",
    "df_CE.head()"
   ]
  },
  {
   "cell_type": "code",
   "execution_count": 318,
   "metadata": {},
   "outputs": [
    {
     "data": {
      "text/html": [
       "<div>\n",
       "<style>\n",
       "    .dataframe thead tr:only-child th {\n",
       "        text-align: right;\n",
       "    }\n",
       "\n",
       "    .dataframe thead th {\n",
       "        text-align: left;\n",
       "    }\n",
       "\n",
       "    .dataframe tbody tr th {\n",
       "        vertical-align: top;\n",
       "    }\n",
       "</style>\n",
       "<table border=\"1\" class=\"dataframe\">\n",
       "  <thead>\n",
       "    <tr style=\"text-align: right;\">\n",
       "      <th></th>\n",
       "      <th>entity</th>\n",
       "      <th>value</th>\n",
       "      <th>synonyms</th>\n",
       "    </tr>\n",
       "  </thead>\n",
       "  <tbody>\n",
       "    <tr>\n",
       "      <th>0</th>\n",
       "      <td>Député-e</td>\n",
       "      <td>PAGANI Rémy</td>\n",
       "      <td>pagani:rémy</td>\n",
       "    </tr>\n",
       "    <tr>\n",
       "      <th>1</th>\n",
       "      <td>Député-e</td>\n",
       "      <td>WENGER Saliha (Salika)</td>\n",
       "      <td>wenger:saliha:salika</td>\n",
       "    </tr>\n",
       "    <tr>\n",
       "      <th>2</th>\n",
       "      <td>Député-e</td>\n",
       "      <td>ZAUGG Christian</td>\n",
       "      <td>zaugg:christian</td>\n",
       "    </tr>\n",
       "    <tr>\n",
       "      <th>3</th>\n",
       "      <td>Député-e</td>\n",
       "      <td>HALLER Jocelyne</td>\n",
       "      <td>haller:jocelyne</td>\n",
       "    </tr>\n",
       "    <tr>\n",
       "      <th>4</th>\n",
       "      <td>Député-e</td>\n",
       "      <td>EMERY-TORRACINTA Anne</td>\n",
       "      <td>emery-torracinta:anne</td>\n",
       "    </tr>\n",
       "  </tbody>\n",
       "</table>\n",
       "</div>"
      ],
      "text/plain": [
       "     entity                   value               synonyms\n",
       "0  Député-e             PAGANI Rémy            pagani:rémy\n",
       "1  Député-e  WENGER Saliha (Salika)   wenger:saliha:salika\n",
       "2  Député-e         ZAUGG Christian        zaugg:christian\n",
       "3  Député-e         HALLER Jocelyne        haller:jocelyne\n",
       "4  Député-e   EMERY-TORRACINTA Anne  emery-torracinta:anne"
      ]
     },
     "execution_count": 318,
     "metadata": {},
     "output_type": "execute_result"
    }
   ],
   "source": [
    "# check GC output\n",
    "df_GC.head()"
   ]
  },
  {
   "cell_type": "code",
   "execution_count": 319,
   "metadata": {
    "collapsed": true
   },
   "outputs": [],
   "source": [
    "# export to csv as separate files\n",
    "df_CE.to_csv('./candidates-CE-Entities.csv',index=False)\n",
    "df_GC.to_csv('./candidates-GC-Entities.csv',index=False)"
   ]
  },
  {
   "cell_type": "code",
   "execution_count": 320,
   "metadata": {
    "collapsed": true
   },
   "outputs": [],
   "source": [
    "# join dfs for single export\n",
    "df_ALL = pd.concat([df_CE, df_GC])\n",
    "# export joined dataframe\n",
    "df_ALL.to_csv('./candidates-ALL-Entities.csv',index=False)"
   ]
  },
  {
   "cell_type": "code",
   "execution_count": null,
   "metadata": {
    "collapsed": true
   },
   "outputs": [],
   "source": []
  }
 ],
 "metadata": {
  "kernelspec": {
   "display_name": "Python [default]",
   "language": "python",
   "name": "python3"
  },
  "language_info": {
   "codemirror_mode": {
    "name": "ipython",
    "version": 3
   },
   "file_extension": ".py",
   "mimetype": "text/x-python",
   "name": "python",
   "nbconvert_exporter": "python",
   "pygments_lexer": "ipython3",
   "version": "3.6.4"
  }
 },
 "nbformat": 4,
 "nbformat_minor": 2
}
