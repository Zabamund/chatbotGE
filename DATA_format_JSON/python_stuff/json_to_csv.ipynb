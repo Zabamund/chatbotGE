{
 "cells": [
  {
   "cell_type": "markdown",
   "metadata": {},
   "source": [
    "### Notebook to convert json to csv\n",
    "The aim of this notebook is to convert json files into csv, to then extract values and save to another csv for import into Oracle chatbot platform."
   ]
  },
  {
   "cell_type": "code",
   "execution_count": 242,
   "metadata": {},
   "outputs": [
    {
     "data": {
      "text/html": [
       "<div>\n",
       "<style>\n",
       "    .dataframe thead tr:only-child th {\n",
       "        text-align: right;\n",
       "    }\n",
       "\n",
       "    .dataframe thead th {\n",
       "        text-align: left;\n",
       "    }\n",
       "\n",
       "    .dataframe tbody tr th {\n",
       "        vertical-align: top;\n",
       "    }\n",
       "</style>\n",
       "<table border=\"1\" class=\"dataframe\">\n",
       "  <thead>\n",
       "    <tr style=\"text-align: right;\">\n",
       "      <th></th>\n",
       "      <th>fonction</th>\n",
       "      <th>id</th>\n",
       "      <th>liste</th>\n",
       "      <th>nom</th>\n",
       "      <th>photoUrl</th>\n",
       "      <th>sexe</th>\n",
       "    </tr>\n",
       "  </thead>\n",
       "  <tbody>\n",
       "    <tr>\n",
       "      <th>0</th>\n",
       "      <td>Conseiller-ère d'Etat</td>\n",
       "      <td>20001</td>\n",
       "      <td>{'id': 203, 'noDepot': 3}</td>\n",
       "      <td>WENGER Saliha (Salika)</td>\n",
       "      <td>WENGER_Saliha.jpg</td>\n",
       "      <td>1</td>\n",
       "    </tr>\n",
       "    <tr>\n",
       "      <th>1</th>\n",
       "      <td>Conseiller-ère d'Etat</td>\n",
       "      <td>20002</td>\n",
       "      <td>{'id': 203, 'noDepot': 3}</td>\n",
       "      <td>HALLER Jocelyne</td>\n",
       "      <td>HALLER_Jocelyne.jpg</td>\n",
       "      <td>1</td>\n",
       "    </tr>\n",
       "    <tr>\n",
       "      <th>2</th>\n",
       "      <td>Conseiller-ère d'Etat</td>\n",
       "      <td>20003</td>\n",
       "      <td>{'id': 201, 'noDepot': 1}</td>\n",
       "      <td>EMERY-TORRACINTA Anne</td>\n",
       "      <td>EMERY-TORRACINTA_Anne.jpg</td>\n",
       "      <td>1</td>\n",
       "    </tr>\n",
       "    <tr>\n",
       "      <th>3</th>\n",
       "      <td>Conseiller-ère d'Etat</td>\n",
       "      <td>20004</td>\n",
       "      <td>{'id': 201, 'noDepot': 1}</td>\n",
       "      <td>APOTHÉLOZ Thierry</td>\n",
       "      <td>APOTHELOZ_Thierry.jpg</td>\n",
       "      <td>0</td>\n",
       "    </tr>\n",
       "    <tr>\n",
       "      <th>4</th>\n",
       "      <td>Conseiller-ère d'Etat</td>\n",
       "      <td>20005</td>\n",
       "      <td>{'id': 201, 'noDepot': 1}</td>\n",
       "      <td>SALERNO Sandrine</td>\n",
       "      <td>SALERNO_Sandrine.jpg</td>\n",
       "      <td>1</td>\n",
       "    </tr>\n",
       "  </tbody>\n",
       "</table>\n",
       "</div>"
      ],
      "text/plain": [
       "                fonction     id                      liste  \\\n",
       "0  Conseiller-ère d'Etat  20001  {'id': 203, 'noDepot': 3}   \n",
       "1  Conseiller-ère d'Etat  20002  {'id': 203, 'noDepot': 3}   \n",
       "2  Conseiller-ère d'Etat  20003  {'id': 201, 'noDepot': 1}   \n",
       "3  Conseiller-ère d'Etat  20004  {'id': 201, 'noDepot': 1}   \n",
       "4  Conseiller-ère d'Etat  20005  {'id': 201, 'noDepot': 1}   \n",
       "\n",
       "                      nom                   photoUrl  sexe  \n",
       "0  WENGER Saliha (Salika)          WENGER_Saliha.jpg     1  \n",
       "1         HALLER Jocelyne        HALLER_Jocelyne.jpg     1  \n",
       "2   EMERY-TORRACINTA Anne  EMERY-TORRACINTA_Anne.jpg     1  \n",
       "3       APOTHÉLOZ Thierry      APOTHELOZ_Thierry.jpg     0  \n",
       "4        SALERNO Sandrine       SALERNO_Sandrine.jpg     1  "
      ]
     },
     "execution_count": 242,
     "metadata": {},
     "output_type": "execute_result"
    }
   ],
   "source": [
    "# imports\n",
    "import pandas as pd\n",
    "CE_candidats_src = pd.read_json('../CE/datas/2351/CE_infosCandidat.json')\n",
    "CE_candidats_src.head()"
   ]
  },
  {
   "cell_type": "code",
   "execution_count": 243,
   "metadata": {},
   "outputs": [
    {
     "data": {
      "text/html": [
       "<div>\n",
       "<style>\n",
       "    .dataframe thead tr:only-child th {\n",
       "        text-align: right;\n",
       "    }\n",
       "\n",
       "    .dataframe thead th {\n",
       "        text-align: left;\n",
       "    }\n",
       "\n",
       "    .dataframe tbody tr th {\n",
       "        vertical-align: top;\n",
       "    }\n",
       "</style>\n",
       "<table border=\"1\" class=\"dataframe\">\n",
       "  <thead>\n",
       "    <tr style=\"text-align: right;\">\n",
       "      <th></th>\n",
       "      <th>fonction</th>\n",
       "      <th>nom</th>\n",
       "    </tr>\n",
       "  </thead>\n",
       "  <tbody>\n",
       "    <tr>\n",
       "      <th>0</th>\n",
       "      <td>Conseiller-ère d'Etat</td>\n",
       "      <td>WENGER Saliha (Salika)</td>\n",
       "    </tr>\n",
       "    <tr>\n",
       "      <th>1</th>\n",
       "      <td>Conseiller-ère d'Etat</td>\n",
       "      <td>HALLER Jocelyne</td>\n",
       "    </tr>\n",
       "    <tr>\n",
       "      <th>2</th>\n",
       "      <td>Conseiller-ère d'Etat</td>\n",
       "      <td>EMERY-TORRACINTA Anne</td>\n",
       "    </tr>\n",
       "    <tr>\n",
       "      <th>3</th>\n",
       "      <td>Conseiller-ère d'Etat</td>\n",
       "      <td>APOTHÉLOZ Thierry</td>\n",
       "    </tr>\n",
       "    <tr>\n",
       "      <th>4</th>\n",
       "      <td>Conseiller-ère d'Etat</td>\n",
       "      <td>SALERNO Sandrine</td>\n",
       "    </tr>\n",
       "  </tbody>\n",
       "</table>\n",
       "</div>"
      ],
      "text/plain": [
       "                fonction                     nom\n",
       "0  Conseiller-ère d'Etat  WENGER Saliha (Salika)\n",
       "1  Conseiller-ère d'Etat         HALLER Jocelyne\n",
       "2  Conseiller-ère d'Etat   EMERY-TORRACINTA Anne\n",
       "3  Conseiller-ère d'Etat       APOTHÉLOZ Thierry\n",
       "4  Conseiller-ère d'Etat        SALERNO Sandrine"
      ]
     },
     "execution_count": 243,
     "metadata": {},
     "output_type": "execute_result"
    }
   ],
   "source": [
    "# edit dataframe to extract required info\n",
    "# Entities format: entity,value,synonyms\n",
    "df = CE_candidats_src.drop(['id', 'liste', 'photoUrl','sexe'], axis=1)\n",
    "df.head()"
   ]
  },
  {
   "cell_type": "code",
   "execution_count": 244,
   "metadata": {},
   "outputs": [
    {
     "data": {
      "text/html": [
       "<div>\n",
       "<style>\n",
       "    .dataframe thead tr:only-child th {\n",
       "        text-align: right;\n",
       "    }\n",
       "\n",
       "    .dataframe thead th {\n",
       "        text-align: left;\n",
       "    }\n",
       "\n",
       "    .dataframe tbody tr th {\n",
       "        vertical-align: top;\n",
       "    }\n",
       "</style>\n",
       "<table border=\"1\" class=\"dataframe\">\n",
       "  <thead>\n",
       "    <tr style=\"text-align: right;\">\n",
       "      <th></th>\n",
       "      <th>fonction</th>\n",
       "      <th>nom</th>\n",
       "      <th>synonyms</th>\n",
       "    </tr>\n",
       "  </thead>\n",
       "  <tbody>\n",
       "    <tr>\n",
       "      <th>0</th>\n",
       "      <td>Conseiller-ère d'Etat</td>\n",
       "      <td>WENGER Saliha (Salika)</td>\n",
       "      <td>WENGER Saliha (Salika)</td>\n",
       "    </tr>\n",
       "    <tr>\n",
       "      <th>1</th>\n",
       "      <td>Conseiller-ère d'Etat</td>\n",
       "      <td>HALLER Jocelyne</td>\n",
       "      <td>HALLER Jocelyne</td>\n",
       "    </tr>\n",
       "    <tr>\n",
       "      <th>2</th>\n",
       "      <td>Conseiller-ère d'Etat</td>\n",
       "      <td>EMERY-TORRACINTA Anne</td>\n",
       "      <td>EMERY-TORRACINTA Anne</td>\n",
       "    </tr>\n",
       "    <tr>\n",
       "      <th>3</th>\n",
       "      <td>Conseiller-ère d'Etat</td>\n",
       "      <td>APOTHÉLOZ Thierry</td>\n",
       "      <td>APOTHÉLOZ Thierry</td>\n",
       "    </tr>\n",
       "    <tr>\n",
       "      <th>4</th>\n",
       "      <td>Conseiller-ère d'Etat</td>\n",
       "      <td>SALERNO Sandrine</td>\n",
       "      <td>SALERNO Sandrine</td>\n",
       "    </tr>\n",
       "  </tbody>\n",
       "</table>\n",
       "</div>"
      ],
      "text/plain": [
       "                fonction                     nom                synonyms\n",
       "0  Conseiller-ère d'Etat  WENGER Saliha (Salika)  WENGER Saliha (Salika)\n",
       "1  Conseiller-ère d'Etat         HALLER Jocelyne         HALLER Jocelyne\n",
       "2  Conseiller-ère d'Etat   EMERY-TORRACINTA Anne   EMERY-TORRACINTA Anne\n",
       "3  Conseiller-ère d'Etat       APOTHÉLOZ Thierry       APOTHÉLOZ Thierry\n",
       "4  Conseiller-ère d'Etat        SALERNO Sandrine        SALERNO Sandrine"
      ]
     },
     "execution_count": 244,
     "metadata": {},
     "output_type": "execute_result"
    }
   ],
   "source": [
    "# add default synonyms column\n",
    "df['synonyms'] = df['nom']\n",
    "df.head()"
   ]
  },
  {
   "cell_type": "code",
   "execution_count": 247,
   "metadata": {},
   "outputs": [
    {
     "data": {
      "text/html": [
       "<div>\n",
       "<style>\n",
       "    .dataframe thead tr:only-child th {\n",
       "        text-align: right;\n",
       "    }\n",
       "\n",
       "    .dataframe thead th {\n",
       "        text-align: left;\n",
       "    }\n",
       "\n",
       "    .dataframe tbody tr th {\n",
       "        vertical-align: top;\n",
       "    }\n",
       "</style>\n",
       "<table border=\"1\" class=\"dataframe\">\n",
       "  <thead>\n",
       "    <tr style=\"text-align: right;\">\n",
       "      <th></th>\n",
       "      <th>entity</th>\n",
       "      <th>value</th>\n",
       "      <th>synonyms</th>\n",
       "    </tr>\n",
       "  </thead>\n",
       "  <tbody>\n",
       "    <tr>\n",
       "      <th>0</th>\n",
       "      <td>Conseiller-ère d'Etat</td>\n",
       "      <td>WENGER Saliha (Salika)</td>\n",
       "      <td>WENGER Saliha (Salika)</td>\n",
       "    </tr>\n",
       "    <tr>\n",
       "      <th>1</th>\n",
       "      <td>Conseiller-ère d'Etat</td>\n",
       "      <td>HALLER Jocelyne</td>\n",
       "      <td>HALLER Jocelyne</td>\n",
       "    </tr>\n",
       "    <tr>\n",
       "      <th>2</th>\n",
       "      <td>Conseiller-ère d'Etat</td>\n",
       "      <td>EMERY-TORRACINTA Anne</td>\n",
       "      <td>EMERY-TORRACINTA Anne</td>\n",
       "    </tr>\n",
       "    <tr>\n",
       "      <th>3</th>\n",
       "      <td>Conseiller-ère d'Etat</td>\n",
       "      <td>APOTHÉLOZ Thierry</td>\n",
       "      <td>APOTHÉLOZ Thierry</td>\n",
       "    </tr>\n",
       "    <tr>\n",
       "      <th>4</th>\n",
       "      <td>Conseiller-ère d'Etat</td>\n",
       "      <td>SALERNO Sandrine</td>\n",
       "      <td>SALERNO Sandrine</td>\n",
       "    </tr>\n",
       "  </tbody>\n",
       "</table>\n",
       "</div>"
      ],
      "text/plain": [
       "                  entity                   value                synonyms\n",
       "0  Conseiller-ère d'Etat  WENGER Saliha (Salika)  WENGER Saliha (Salika)\n",
       "1  Conseiller-ère d'Etat         HALLER Jocelyne         HALLER Jocelyne\n",
       "2  Conseiller-ère d'Etat   EMERY-TORRACINTA Anne   EMERY-TORRACINTA Anne\n",
       "3  Conseiller-ère d'Etat       APOTHÉLOZ Thierry       APOTHÉLOZ Thierry\n",
       "4  Conseiller-ère d'Etat        SALERNO Sandrine        SALERNO Sandrine"
      ]
     },
     "execution_count": 247,
     "metadata": {},
     "output_type": "execute_result"
    }
   ],
   "source": [
    "# rename columns\n",
    "df.rename(index=str, columns={\"fonction\": \"entity\", \"nom\": \"value\"}, inplace=True)\n",
    "df.head()"
   ]
  },
  {
   "cell_type": "code",
   "execution_count": 252,
   "metadata": {},
   "outputs": [],
   "source": [
    "df.synonyms = df.synonyms.str.lower();\n",
    "df.synonyms.str.replace('(','');\n",
    "df.synonyms.str.replace(')','');\n",
    "\n",
    "#df.synonyms.str.replace(')', '')"
   ]
  },
  {
   "cell_type": "code",
   "execution_count": 253,
   "metadata": {},
   "outputs": [
    {
     "data": {
      "text/plain": [
       "0           WENGER Saliha (Salika)\n",
       "1                  HALLER Jocelyne\n",
       "2            EMERY-TORRACINTA Anne\n",
       "3                APOTHÉLOZ Thierry\n",
       "4                 SALERNO Sandrine\n",
       "5                  HODGERS Antonio\n",
       "6            DE CHASTONAY Marjorie\n",
       "7                      ROCHAT Yvan\n",
       "8                     POGGIA Mauro\n",
       "9                   ROCH Ana Belen\n",
       "10                 SORMANNI Daniel\n",
       "11                   MAUDET Pierre\n",
       "12                 DAL BUSCO Serge\n",
       "13                  BARTHASSAT Luc\n",
       "14               FONTANET Nathalie\n",
       "15         DE SENARCLENS Alexandre\n",
       "16                   AMBERGER Axel\n",
       "17              BURGERMEISTER Jean\n",
       "18                   NIDEGGER Yves\n",
       "19                    BLÄSI Thomas\n",
       "20                 FLOREY Stéphane\n",
       "21                   STAUFFER Eric\n",
       "22                ZACHARIAS Ronald\n",
       "23                  CRETEGNY Willy\n",
       "24    AYMON Paul (dit Paul Sierre)\n",
       "25                   ORSINI Magali\n",
       "26                 GAUTHIER Pierre\n",
       "27                 VIDONNE Thierry\n",
       "28                   LEITNER André\n",
       "29                  FONTANA Jérôme\n",
       "30                  AMSLER Susanne\n",
       "Name: synonyms, dtype: object"
      ]
     },
     "execution_count": 253,
     "metadata": {},
     "output_type": "execute_result"
    }
   ],
   "source": [
    "df.synonyms"
   ]
  },
  {
   "cell_type": "code",
   "execution_count": null,
   "metadata": {
    "collapsed": true
   },
   "outputs": [],
   "source": []
  },
  {
   "cell_type": "code",
   "execution_count": null,
   "metadata": {
    "collapsed": true
   },
   "outputs": [],
   "source": []
  },
  {
   "cell_type": "code",
   "execution_count": 4,
   "metadata": {
    "collapsed": true
   },
   "outputs": [],
   "source": [
    "# export to csv\n",
    "df.to_csv('./candidates-Entities.csv')"
   ]
  },
  {
   "cell_type": "code",
   "execution_count": null,
   "metadata": {
    "collapsed": true
   },
   "outputs": [],
   "source": []
  }
 ],
 "metadata": {
  "kernelspec": {
   "display_name": "Python [default]",
   "language": "python",
   "name": "python3"
  },
  "language_info": {
   "codemirror_mode": {
    "name": "ipython",
    "version": 3
   },
   "file_extension": ".py",
   "mimetype": "text/x-python",
   "name": "python",
   "nbconvert_exporter": "python",
   "pygments_lexer": "ipython3",
   "version": "3.6.4"
  }
 },
 "nbformat": 4,
 "nbformat_minor": 2
}
