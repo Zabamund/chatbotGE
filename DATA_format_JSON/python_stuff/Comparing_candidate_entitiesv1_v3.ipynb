{
 "cells": [
  {
   "cell_type": "markdown",
   "metadata": {},
   "source": [
    "## Compare candidate-entities_v1 vs candidate-entities_v3\n",
    "candidate-entities_v3 includes some spelling mistakes added by Jean-Luc Favre to the synonyms column"
   ]
  },
  {
   "cell_type": "code",
   "execution_count": 1,
   "metadata": {
    "collapsed": true
   },
   "outputs": [],
   "source": [
    "# import libraries\n",
    "import pandas as pd"
   ]
  },
  {
   "cell_type": "code",
   "execution_count": 11,
   "metadata": {},
   "outputs": [],
   "source": [
    "# import files\n",
    "df_v1 = pd.read_csv('../../electionBot_sBox/candidates-Entities.csv')\n",
    "df_v3 = pd.read_csv('../../electionBot_sBox/candidates-Entities_v3.csv')"
   ]
  },
  {
   "cell_type": "code",
   "execution_count": 12,
   "metadata": {},
   "outputs": [
    {
     "data": {
      "text/html": [
       "<div>\n",
       "<style>\n",
       "    .dataframe thead tr:only-child th {\n",
       "        text-align: right;\n",
       "    }\n",
       "\n",
       "    .dataframe thead th {\n",
       "        text-align: left;\n",
       "    }\n",
       "\n",
       "    .dataframe tbody tr th {\n",
       "        vertical-align: top;\n",
       "    }\n",
       "</style>\n",
       "<table border=\"1\" class=\"dataframe\">\n",
       "  <thead>\n",
       "    <tr style=\"text-align: right;\">\n",
       "      <th></th>\n",
       "      <th>entity</th>\n",
       "      <th>value</th>\n",
       "      <th>synonyms</th>\n",
       "    </tr>\n",
       "  </thead>\n",
       "  <tbody>\n",
       "    <tr>\n",
       "      <th>0</th>\n",
       "      <td>Depute_e</td>\n",
       "      <td>PAGANI Rémy</td>\n",
       "      <td>Rémy:PAGANI</td>\n",
       "    </tr>\n",
       "    <tr>\n",
       "      <th>1</th>\n",
       "      <td>Depute_e</td>\n",
       "      <td>WENGER Saliha</td>\n",
       "      <td>Saliha:WENGER:Salika</td>\n",
       "    </tr>\n",
       "    <tr>\n",
       "      <th>2</th>\n",
       "      <td>Depute_e</td>\n",
       "      <td>ZAUGG Christian</td>\n",
       "      <td>Christian:ZAUGG</td>\n",
       "    </tr>\n",
       "    <tr>\n",
       "      <th>3</th>\n",
       "      <td>Depute_e</td>\n",
       "      <td>HALLER Jocelyne</td>\n",
       "      <td>Jocelyne:HALLER</td>\n",
       "    </tr>\n",
       "    <tr>\n",
       "      <th>4</th>\n",
       "      <td>Depute_e</td>\n",
       "      <td>ENILINE Alexander</td>\n",
       "      <td>Alexander:ENILINE</td>\n",
       "    </tr>\n",
       "  </tbody>\n",
       "</table>\n",
       "</div>"
      ],
      "text/plain": [
       "     entity              value              synonyms\n",
       "0  Depute_e        PAGANI Rémy           Rémy:PAGANI\n",
       "1  Depute_e      WENGER Saliha  Saliha:WENGER:Salika\n",
       "2  Depute_e    ZAUGG Christian       Christian:ZAUGG\n",
       "3  Depute_e    HALLER Jocelyne       Jocelyne:HALLER\n",
       "4  Depute_e  ENILINE Alexander     Alexander:ENILINE"
      ]
     },
     "execution_count": 12,
     "metadata": {},
     "output_type": "execute_result"
    }
   ],
   "source": [
    "df_v1.head()"
   ]
  },
  {
   "cell_type": "code",
   "execution_count": 13,
   "metadata": {},
   "outputs": [
    {
     "data": {
      "text/html": [
       "<div>\n",
       "<style>\n",
       "    .dataframe thead tr:only-child th {\n",
       "        text-align: right;\n",
       "    }\n",
       "\n",
       "    .dataframe thead th {\n",
       "        text-align: left;\n",
       "    }\n",
       "\n",
       "    .dataframe tbody tr th {\n",
       "        vertical-align: top;\n",
       "    }\n",
       "</style>\n",
       "<table border=\"1\" class=\"dataframe\">\n",
       "  <thead>\n",
       "    <tr style=\"text-align: right;\">\n",
       "      <th></th>\n",
       "      <th>entity;value;synonyms</th>\n",
       "    </tr>\n",
       "  </thead>\n",
       "  <tbody>\n",
       "    <tr>\n",
       "      <th>0</th>\n",
       "      <td>Depute_e;PAGANI Rémy;Rémy:PAGANI</td>\n",
       "    </tr>\n",
       "    <tr>\n",
       "      <th>1</th>\n",
       "      <td>Depute_e;WENGER Saliha;Saliha:WENGER:Salika</td>\n",
       "    </tr>\n",
       "    <tr>\n",
       "      <th>2</th>\n",
       "      <td>Depute_e;ZAUGG Christian;Christian:ZAUGG:ZAUG:...</td>\n",
       "    </tr>\n",
       "    <tr>\n",
       "      <th>3</th>\n",
       "      <td>Depute_e;HALLER Jocelyne;Jocelyne:HALLER:HALER</td>\n",
       "    </tr>\n",
       "    <tr>\n",
       "      <th>4</th>\n",
       "      <td>Depute_e;ENILINE Alexander;Alexander:ENILINE</td>\n",
       "    </tr>\n",
       "  </tbody>\n",
       "</table>\n",
       "</div>"
      ],
      "text/plain": [
       "                               entity;value;synonyms\n",
       "0                   Depute_e;PAGANI Rémy;Rémy:PAGANI\n",
       "1        Depute_e;WENGER Saliha;Saliha:WENGER:Salika\n",
       "2  Depute_e;ZAUGG Christian;Christian:ZAUGG:ZAUG:...\n",
       "3     Depute_e;HALLER Jocelyne;Jocelyne:HALLER:HALER\n",
       "4       Depute_e;ENILINE Alexander;Alexander:ENILINE"
      ]
     },
     "execution_count": 13,
     "metadata": {},
     "output_type": "execute_result"
    }
   ],
   "source": [
    "df_v3.head()"
   ]
  },
  {
   "cell_type": "code",
   "execution_count": 14,
   "metadata": {
    "collapsed": true
   },
   "outputs": [],
   "source": [
    "# reimport v3 with delimiter\n",
    "df_v3 = pd.read_csv('../../electionBot_sBox/candidates-Entities_v3.csv', delimiter=';')"
   ]
  },
  {
   "cell_type": "code",
   "execution_count": 15,
   "metadata": {},
   "outputs": [
    {
     "data": {
      "text/html": [
       "<div>\n",
       "<style>\n",
       "    .dataframe thead tr:only-child th {\n",
       "        text-align: right;\n",
       "    }\n",
       "\n",
       "    .dataframe thead th {\n",
       "        text-align: left;\n",
       "    }\n",
       "\n",
       "    .dataframe tbody tr th {\n",
       "        vertical-align: top;\n",
       "    }\n",
       "</style>\n",
       "<table border=\"1\" class=\"dataframe\">\n",
       "  <thead>\n",
       "    <tr style=\"text-align: right;\">\n",
       "      <th></th>\n",
       "      <th>entity</th>\n",
       "      <th>value</th>\n",
       "      <th>synonyms</th>\n",
       "    </tr>\n",
       "  </thead>\n",
       "  <tbody>\n",
       "    <tr>\n",
       "      <th>0</th>\n",
       "      <td>Depute_e</td>\n",
       "      <td>PAGANI Rémy</td>\n",
       "      <td>Rémy:PAGANI</td>\n",
       "    </tr>\n",
       "    <tr>\n",
       "      <th>1</th>\n",
       "      <td>Depute_e</td>\n",
       "      <td>WENGER Saliha</td>\n",
       "      <td>Saliha:WENGER:Salika</td>\n",
       "    </tr>\n",
       "    <tr>\n",
       "      <th>2</th>\n",
       "      <td>Depute_e</td>\n",
       "      <td>ZAUGG Christian</td>\n",
       "      <td>Christian:ZAUGG:ZAUG:ZOG:ZOGG</td>\n",
       "    </tr>\n",
       "    <tr>\n",
       "      <th>3</th>\n",
       "      <td>Depute_e</td>\n",
       "      <td>HALLER Jocelyne</td>\n",
       "      <td>Jocelyne:HALLER:HALER</td>\n",
       "    </tr>\n",
       "    <tr>\n",
       "      <th>4</th>\n",
       "      <td>Depute_e</td>\n",
       "      <td>ENILINE Alexander</td>\n",
       "      <td>Alexander:ENILINE</td>\n",
       "    </tr>\n",
       "  </tbody>\n",
       "</table>\n",
       "</div>"
      ],
      "text/plain": [
       "     entity              value                       synonyms\n",
       "0  Depute_e        PAGANI Rémy                    Rémy:PAGANI\n",
       "1  Depute_e      WENGER Saliha           Saliha:WENGER:Salika\n",
       "2  Depute_e    ZAUGG Christian  Christian:ZAUGG:ZAUG:ZOG:ZOGG\n",
       "3  Depute_e    HALLER Jocelyne          Jocelyne:HALLER:HALER\n",
       "4  Depute_e  ENILINE Alexander              Alexander:ENILINE"
      ]
     },
     "execution_count": 15,
     "metadata": {},
     "output_type": "execute_result"
    }
   ],
   "source": [
    "df_v3.head()"
   ]
  },
  {
   "cell_type": "code",
   "execution_count": 16,
   "metadata": {},
   "outputs": [
    {
     "name": "stdout",
     "output_type": "stream",
     "text": [
      "<class 'pandas.core.frame.DataFrame'>\n",
      "RangeIndex: 654 entries, 0 to 653\n",
      "Data columns (total 3 columns):\n",
      "entity      654 non-null object\n",
      "value       654 non-null object\n",
      "synonyms    654 non-null object\n",
      "dtypes: object(3)\n",
      "memory usage: 15.4+ KB\n"
     ]
    }
   ],
   "source": [
    "df_v1.info()"
   ]
  },
  {
   "cell_type": "code",
   "execution_count": 17,
   "metadata": {},
   "outputs": [
    {
     "name": "stdout",
     "output_type": "stream",
     "text": [
      "<class 'pandas.core.frame.DataFrame'>\n",
      "RangeIndex: 654 entries, 0 to 653\n",
      "Data columns (total 3 columns):\n",
      "entity      654 non-null object\n",
      "value       654 non-null object\n",
      "synonyms    654 non-null object\n",
      "dtypes: object(3)\n",
      "memory usage: 15.4+ KB\n"
     ]
    }
   ],
   "source": [
    "df_v3.info()"
   ]
  },
  {
   "cell_type": "code",
   "execution_count": 19,
   "metadata": {},
   "outputs": [],
   "source": [
    "# rexport v3 with correct format\n",
    "df_v3.to_csv('../../electionBot_sBox/candidates-Entities_v3_edt.csv',index=False)"
   ]
  },
  {
   "cell_type": "code",
   "execution_count": null,
   "metadata": {
    "collapsed": true
   },
   "outputs": [],
   "source": []
  }
 ],
 "metadata": {
  "kernelspec": {
   "display_name": "Python [default]",
   "language": "python",
   "name": "python3"
  },
  "language_info": {
   "codemirror_mode": {
    "name": "ipython",
    "version": 3
   },
   "file_extension": ".py",
   "mimetype": "text/x-python",
   "name": "python",
   "nbconvert_exporter": "python",
   "pygments_lexer": "ipython3",
   "version": "3.6.4"
  }
 },
 "nbformat": 4,
 "nbformat_minor": 2
}
