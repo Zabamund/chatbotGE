{
 "cells": [
  {
   "cell_type": "markdown",
   "metadata": {},
   "source": [
    "## Create new Candidate entity file with simpler synonyms\n",
    "\n",
    "**Nota Bene:**\n",
    "in the Chatbot objectives the `Solution to handle spelling mistakes of candidates in chatbot users' questions` was defined as a `Should have`. Given the issues in the chatbot caused by similar synonyms, this file simplifies them to see whether we can fix the multiple entity extraction with a simpler solution.\n",
    "\n",
    "This new file must have 3 entities:\n",
    "\n",
    "<ol>\n",
    "<li>Candidates in GC</li>\n",
    "<li>Candidates in CE</li>\n",
    "<li>Candidates in GC & CE</li>\n",
    "</ol>"
   ]
  },
  {
   "cell_type": "code",
   "execution_count": 433,
   "metadata": {
    "collapsed": true
   },
   "outputs": [],
   "source": [
    "# import libraries\n",
    "import pandas as pd\n",
    "import numpy as np\n",
    "import matplotlib.pyplot as plt\n",
    "from matplotlib_venn import venn2\n",
    "\n",
    "%matplotlib inline"
   ]
  },
  {
   "cell_type": "code",
   "execution_count": 458,
   "metadata": {},
   "outputs": [
    {
     "data": {
      "text/html": [
       "<div>\n",
       "<style>\n",
       "    .dataframe thead tr:only-child th {\n",
       "        text-align: right;\n",
       "    }\n",
       "\n",
       "    .dataframe thead th {\n",
       "        text-align: left;\n",
       "    }\n",
       "\n",
       "    .dataframe tbody tr th {\n",
       "        vertical-align: top;\n",
       "    }\n",
       "</style>\n",
       "<table border=\"1\" class=\"dataframe\">\n",
       "  <thead>\n",
       "    <tr style=\"text-align: right;\">\n",
       "      <th></th>\n",
       "      <th>entity</th>\n",
       "      <th>value</th>\n",
       "      <th>synonyms</th>\n",
       "    </tr>\n",
       "  </thead>\n",
       "  <tbody>\n",
       "    <tr>\n",
       "      <th>0</th>\n",
       "      <td>Depute_e</td>\n",
       "      <td>PAGANI Rémy</td>\n",
       "      <td>rémy:pagani:Remy:pagani</td>\n",
       "    </tr>\n",
       "    <tr>\n",
       "      <th>1</th>\n",
       "      <td>Depute_e</td>\n",
       "      <td>WENGER Saliha</td>\n",
       "      <td>saliha:wenger:salika:saliha:wenger:Salika</td>\n",
       "    </tr>\n",
       "    <tr>\n",
       "      <th>2</th>\n",
       "      <td>Depute_e</td>\n",
       "      <td>ZAUGG Christian</td>\n",
       "      <td>christian:zaugg:zaug:zog:zogg:christian:zaugg:...</td>\n",
       "    </tr>\n",
       "    <tr>\n",
       "      <th>3</th>\n",
       "      <td>Depute_e</td>\n",
       "      <td>HALLER Jocelyne</td>\n",
       "      <td>jocelyne:haller:haler:Jocelyne:haller:haul</td>\n",
       "    </tr>\n",
       "    <tr>\n",
       "      <th>4</th>\n",
       "      <td>Depute_e</td>\n",
       "      <td>ENILINE Alexander</td>\n",
       "      <td>alexander:eniline:alexander:eniline</td>\n",
       "    </tr>\n",
       "  </tbody>\n",
       "</table>\n",
       "</div>"
      ],
      "text/plain": [
       "     entity              value  \\\n",
       "0  Depute_e        PAGANI Rémy   \n",
       "1  Depute_e      WENGER Saliha   \n",
       "2  Depute_e    ZAUGG Christian   \n",
       "3  Depute_e    HALLER Jocelyne   \n",
       "4  Depute_e  ENILINE Alexander   \n",
       "\n",
       "                                            synonyms  \n",
       "0                            rémy:pagani:Remy:pagani  \n",
       "1          saliha:wenger:salika:saliha:wenger:Salika  \n",
       "2  christian:zaugg:zaug:zog:zogg:christian:zaugg:...  \n",
       "3         jocelyne:haller:haler:Jocelyne:haller:haul  \n",
       "4                alexander:eniline:alexander:eniline  "
      ]
     },
     "execution_count": 458,
     "metadata": {},
     "output_type": "execute_result"
    }
   ],
   "source": [
    "# import files\n",
    "df = pd.read_csv('./electionBot_sBox/archive/candidates-Entities_v5.csv')\n",
    "df.head()"
   ]
  },
  {
   "cell_type": "code",
   "execution_count": 459,
   "metadata": {},
   "outputs": [],
   "source": [
    "# add new synonyms colum\n",
    "df['synonyms'] = df['value'].str.split()"
   ]
  },
  {
   "cell_type": "code",
   "execution_count": 460,
   "metadata": {},
   "outputs": [
    {
     "data": {
      "text/plain": [
       "[\"L'HUILLIER\", 'Eric']"
      ]
     },
     "execution_count": 460,
     "metadata": {},
     "output_type": "execute_result"
    }
   ],
   "source": [
    "# problem case - to fix\n",
    "df['synonyms'].iloc[457]"
   ]
  },
  {
   "cell_type": "code",
   "execution_count": 461,
   "metadata": {},
   "outputs": [
    {
     "data": {
      "text/html": [
       "<div>\n",
       "<style>\n",
       "    .dataframe thead tr:only-child th {\n",
       "        text-align: right;\n",
       "    }\n",
       "\n",
       "    .dataframe thead th {\n",
       "        text-align: left;\n",
       "    }\n",
       "\n",
       "    .dataframe tbody tr th {\n",
       "        vertical-align: top;\n",
       "    }\n",
       "</style>\n",
       "<table border=\"1\" class=\"dataframe\">\n",
       "  <thead>\n",
       "    <tr style=\"text-align: right;\">\n",
       "      <th></th>\n",
       "      <th>entity</th>\n",
       "      <th>value</th>\n",
       "      <th>synonyms</th>\n",
       "    </tr>\n",
       "  </thead>\n",
       "  <tbody>\n",
       "    <tr>\n",
       "      <th>0</th>\n",
       "      <td>Depute_e</td>\n",
       "      <td>PAGANI Rémy</td>\n",
       "      <td>[PAGANI, Rémy]</td>\n",
       "    </tr>\n",
       "    <tr>\n",
       "      <th>1</th>\n",
       "      <td>Depute_e</td>\n",
       "      <td>WENGER Saliha</td>\n",
       "      <td>[WENGER, Saliha]</td>\n",
       "    </tr>\n",
       "    <tr>\n",
       "      <th>2</th>\n",
       "      <td>Depute_e</td>\n",
       "      <td>ZAUGG Christian</td>\n",
       "      <td>[ZAUGG, Christian]</td>\n",
       "    </tr>\n",
       "    <tr>\n",
       "      <th>3</th>\n",
       "      <td>Depute_e</td>\n",
       "      <td>HALLER Jocelyne</td>\n",
       "      <td>[HALLER, Jocelyne]</td>\n",
       "    </tr>\n",
       "    <tr>\n",
       "      <th>4</th>\n",
       "      <td>Depute_e</td>\n",
       "      <td>ENILINE Alexander</td>\n",
       "      <td>[ENILINE, Alexander]</td>\n",
       "    </tr>\n",
       "  </tbody>\n",
       "</table>\n",
       "</div>"
      ],
      "text/plain": [
       "     entity              value              synonyms\n",
       "0  Depute_e        PAGANI Rémy        [PAGANI, Rémy]\n",
       "1  Depute_e      WENGER Saliha      [WENGER, Saliha]\n",
       "2  Depute_e    ZAUGG Christian    [ZAUGG, Christian]\n",
       "3  Depute_e    HALLER Jocelyne    [HALLER, Jocelyne]\n",
       "4  Depute_e  ENILINE Alexander  [ENILINE, Alexander]"
      ]
     },
     "execution_count": 461,
     "metadata": {},
     "output_type": "execute_result"
    }
   ],
   "source": [
    "df.head()"
   ]
  },
  {
   "cell_type": "code",
   "execution_count": 462,
   "metadata": {
    "collapsed": true
   },
   "outputs": [],
   "source": [
    "# extract string from list\n",
    "df['synonyms'] = df.synonyms.astype(str).str.replace('\\[|\\]|\\'', '')"
   ]
  },
  {
   "cell_type": "code",
   "execution_count": 463,
   "metadata": {},
   "outputs": [],
   "source": [
    "# title case\n",
    "df['synonyms'] = df['synonyms'].str.title();"
   ]
  },
  {
   "cell_type": "code",
   "execution_count": 464,
   "metadata": {
    "collapsed": true
   },
   "outputs": [],
   "source": [
    "# remove accents and special characters\n",
    "df['synonyms'].replace(regex=True,inplace=True,to_replace='à',value='a')\n",
    "df['synonyms'].replace(regex=True,inplace=True,to_replace='â',value='a')\n",
    "df['synonyms'].replace(regex=True,inplace=True,to_replace='ä',value='a')\n",
    "df['synonyms'].replace(regex=True,inplace=True,to_replace='é',value='e')\n",
    "df['synonyms'].replace(regex=True,inplace=True,to_replace='è',value='e')\n",
    "df['synonyms'].replace(regex=True,inplace=True,to_replace='ê',value='e')\n",
    "df['synonyms'].replace(regex=True,inplace=True,to_replace='ï',value='i')\n",
    "df['synonyms'].replace(regex=True,inplace=True,to_replace='ö',value='o')\n",
    "df['synonyms'].replace(regex=True,inplace=True,to_replace='ô',value='o')\n",
    "df['synonyms'].replace(regex=True,inplace=True,to_replace='ù',value='u')\n",
    "df['synonyms'].replace(regex=True,inplace=True,to_replace='ü',value='u')\n",
    "# remove spec chars from local-commune_nom\n",
    "df['synonyms'].replace(regex=True,inplace=True,to_replace=\" - \",value=' ')\n",
    "df['synonyms'].replace(regex=True,inplace=True,to_replace=\"-\",value=' ')\n",
    "df['synonyms'].replace(regex=True,inplace=True,to_replace=\"'\",value=' ')\n",
    "df['synonyms'].replace(regex=True,inplace=True,to_replace=\"L'\",value='l:')\n",
    "df['synonyms'].replace(regex=True,inplace=True,to_replace='\"',value='')"
   ]
  },
  {
   "cell_type": "code",
   "execution_count": 465,
   "metadata": {
    "collapsed": true
   },
   "outputs": [],
   "source": [
    "# format synonyms column\n",
    "df['synonyms'].replace(regex=True,inplace=True,to_replace=\", \",value=':')"
   ]
  },
  {
   "cell_type": "code",
   "execution_count": 466,
   "metadata": {},
   "outputs": [
    {
     "data": {
      "text/plain": [
       "'Lhuillier:Eric'"
      ]
     },
     "execution_count": 466,
     "metadata": {},
     "output_type": "execute_result"
    }
   ],
   "source": [
    "df['synonyms'].iloc[457]"
   ]
  },
  {
   "cell_type": "code",
   "execution_count": 467,
   "metadata": {},
   "outputs": [
    {
     "data": {
      "text/html": [
       "<div>\n",
       "<style>\n",
       "    .dataframe thead tr:only-child th {\n",
       "        text-align: right;\n",
       "    }\n",
       "\n",
       "    .dataframe thead th {\n",
       "        text-align: left;\n",
       "    }\n",
       "\n",
       "    .dataframe tbody tr th {\n",
       "        vertical-align: top;\n",
       "    }\n",
       "</style>\n",
       "<table border=\"1\" class=\"dataframe\">\n",
       "  <thead>\n",
       "    <tr style=\"text-align: right;\">\n",
       "      <th></th>\n",
       "      <th>entity</th>\n",
       "      <th>value</th>\n",
       "      <th>synonyms</th>\n",
       "    </tr>\n",
       "  </thead>\n",
       "  <tbody>\n",
       "    <tr>\n",
       "      <th>0</th>\n",
       "      <td>Depute_e</td>\n",
       "      <td>PAGANI Rémy</td>\n",
       "      <td>Pagani:Remy</td>\n",
       "    </tr>\n",
       "    <tr>\n",
       "      <th>1</th>\n",
       "      <td>Depute_e</td>\n",
       "      <td>WENGER Saliha</td>\n",
       "      <td>Wenger:Saliha</td>\n",
       "    </tr>\n",
       "    <tr>\n",
       "      <th>2</th>\n",
       "      <td>Depute_e</td>\n",
       "      <td>ZAUGG Christian</td>\n",
       "      <td>Zaugg:Christian</td>\n",
       "    </tr>\n",
       "    <tr>\n",
       "      <th>3</th>\n",
       "      <td>Depute_e</td>\n",
       "      <td>HALLER Jocelyne</td>\n",
       "      <td>Haller:Jocelyne</td>\n",
       "    </tr>\n",
       "    <tr>\n",
       "      <th>4</th>\n",
       "      <td>Depute_e</td>\n",
       "      <td>ENILINE Alexander</td>\n",
       "      <td>Eniline:Alexander</td>\n",
       "    </tr>\n",
       "  </tbody>\n",
       "</table>\n",
       "</div>"
      ],
      "text/plain": [
       "     entity              value           synonyms\n",
       "0  Depute_e        PAGANI Rémy        Pagani:Remy\n",
       "1  Depute_e      WENGER Saliha      Wenger:Saliha\n",
       "2  Depute_e    ZAUGG Christian    Zaugg:Christian\n",
       "3  Depute_e    HALLER Jocelyne    Haller:Jocelyne\n",
       "4  Depute_e  ENILINE Alexander  Eniline:Alexander"
      ]
     },
     "execution_count": 467,
     "metadata": {},
     "output_type": "execute_result"
    }
   ],
   "source": [
    "df.head()"
   ]
  },
  {
   "cell_type": "code",
   "execution_count": 468,
   "metadata": {},
   "outputs": [
    {
     "data": {
      "text/html": [
       "<div>\n",
       "<style>\n",
       "    .dataframe thead tr:only-child th {\n",
       "        text-align: right;\n",
       "    }\n",
       "\n",
       "    .dataframe thead th {\n",
       "        text-align: left;\n",
       "    }\n",
       "\n",
       "    .dataframe tbody tr th {\n",
       "        vertical-align: top;\n",
       "    }\n",
       "</style>\n",
       "<table border=\"1\" class=\"dataframe\">\n",
       "  <thead>\n",
       "    <tr style=\"text-align: right;\">\n",
       "      <th></th>\n",
       "      <th>initialEntity</th>\n",
       "      <th>value</th>\n",
       "      <th>synonyms</th>\n",
       "      <th>entity</th>\n",
       "    </tr>\n",
       "  </thead>\n",
       "  <tbody>\n",
       "    <tr>\n",
       "      <th>0</th>\n",
       "      <td>Depute_e</td>\n",
       "      <td>PAGANI Rémy</td>\n",
       "      <td>Pagani:Remy</td>\n",
       "      <td></td>\n",
       "    </tr>\n",
       "    <tr>\n",
       "      <th>1</th>\n",
       "      <td>Depute_e</td>\n",
       "      <td>WENGER Saliha</td>\n",
       "      <td>Wenger:Saliha</td>\n",
       "      <td></td>\n",
       "    </tr>\n",
       "    <tr>\n",
       "      <th>2</th>\n",
       "      <td>Depute_e</td>\n",
       "      <td>ZAUGG Christian</td>\n",
       "      <td>Zaugg:Christian</td>\n",
       "      <td></td>\n",
       "    </tr>\n",
       "    <tr>\n",
       "      <th>3</th>\n",
       "      <td>Depute_e</td>\n",
       "      <td>HALLER Jocelyne</td>\n",
       "      <td>Haller:Jocelyne</td>\n",
       "      <td></td>\n",
       "    </tr>\n",
       "    <tr>\n",
       "      <th>4</th>\n",
       "      <td>Depute_e</td>\n",
       "      <td>ENILINE Alexander</td>\n",
       "      <td>Eniline:Alexander</td>\n",
       "      <td></td>\n",
       "    </tr>\n",
       "  </tbody>\n",
       "</table>\n",
       "</div>"
      ],
      "text/plain": [
       "  initialEntity              value           synonyms entity\n",
       "0      Depute_e        PAGANI Rémy        Pagani:Remy       \n",
       "1      Depute_e      WENGER Saliha      Wenger:Saliha       \n",
       "2      Depute_e    ZAUGG Christian    Zaugg:Christian       \n",
       "3      Depute_e    HALLER Jocelyne    Haller:Jocelyne       \n",
       "4      Depute_e  ENILINE Alexander  Eniline:Alexander       "
      ]
     },
     "execution_count": 468,
     "metadata": {},
     "output_type": "execute_result"
    }
   ],
   "source": [
    "# rename column and add new column\n",
    "df.rename(index=str, columns={\"entity\": \"initialEntity\"}, inplace=True)\n",
    "df['entity'] = ''\n",
    "df.head()"
   ]
  },
  {
   "cell_type": "code",
   "execution_count": 469,
   "metadata": {},
   "outputs": [
    {
     "data": {
      "text/html": [
       "<div>\n",
       "<style>\n",
       "    .dataframe thead tr:only-child th {\n",
       "        text-align: right;\n",
       "    }\n",
       "\n",
       "    .dataframe thead th {\n",
       "        text-align: left;\n",
       "    }\n",
       "\n",
       "    .dataframe tbody tr th {\n",
       "        vertical-align: top;\n",
       "    }\n",
       "</style>\n",
       "<table border=\"1\" class=\"dataframe\">\n",
       "  <thead>\n",
       "    <tr style=\"text-align: right;\">\n",
       "      <th></th>\n",
       "      <th>initialEntity</th>\n",
       "      <th>value</th>\n",
       "      <th>synonyms</th>\n",
       "      <th>entity</th>\n",
       "    </tr>\n",
       "  </thead>\n",
       "  <tbody>\n",
       "    <tr>\n",
       "      <th>649</th>\n",
       "      <td>Conseiller_ere_d_Etat</td>\n",
       "      <td>ZACHARIAS Ronald</td>\n",
       "      <td>Zacharias:Ronald</td>\n",
       "      <td></td>\n",
       "    </tr>\n",
       "    <tr>\n",
       "      <th>650</th>\n",
       "      <td>Conseiller_ere_d_Etat</td>\n",
       "      <td>VIDONNE Thierry</td>\n",
       "      <td>Vidonne:Thierry</td>\n",
       "      <td></td>\n",
       "    </tr>\n",
       "    <tr>\n",
       "      <th>651</th>\n",
       "      <td>Conseiller_ere_d_Etat</td>\n",
       "      <td>LEITNER André</td>\n",
       "      <td>Leitner:Andre</td>\n",
       "      <td></td>\n",
       "    </tr>\n",
       "    <tr>\n",
       "      <th>652</th>\n",
       "      <td>Conseiller_ere_d_Etat</td>\n",
       "      <td>FONTANA Jérôme</td>\n",
       "      <td>Fontana:Jerome</td>\n",
       "      <td></td>\n",
       "    </tr>\n",
       "    <tr>\n",
       "      <th>653</th>\n",
       "      <td>Conseiller_ere_d_Etat</td>\n",
       "      <td>AMSLER Susanne</td>\n",
       "      <td>Amsler:Susanne</td>\n",
       "      <td></td>\n",
       "    </tr>\n",
       "  </tbody>\n",
       "</table>\n",
       "</div>"
      ],
      "text/plain": [
       "             initialEntity             value          synonyms entity\n",
       "649  Conseiller_ere_d_Etat  ZACHARIAS Ronald  Zacharias:Ronald       \n",
       "650  Conseiller_ere_d_Etat   VIDONNE Thierry   Vidonne:Thierry       \n",
       "651  Conseiller_ere_d_Etat     LEITNER André     Leitner:Andre       \n",
       "652  Conseiller_ere_d_Etat    FONTANA Jérôme    Fontana:Jerome       \n",
       "653  Conseiller_ere_d_Etat    AMSLER Susanne    Amsler:Susanne       "
      ]
     },
     "execution_count": 469,
     "metadata": {},
     "output_type": "execute_result"
    }
   ],
   "source": [
    "df.tail()"
   ]
  },
  {
   "cell_type": "code",
   "execution_count": 470,
   "metadata": {},
   "outputs": [
    {
     "data": {
      "image/png": "[encoded data removed]",
      "text/plain": [
       "<matplotlib.figure.Figure at 0x151e4dacc0>"
      ]
     },
     "metadata": {},
     "output_type": "display_data"
    }
   ],
   "source": [
    "# filter value for each election\n",
    "GC = df[(df['initialEntity'] == 'Depute_e')]\n",
    "CE = df[(df['initialEntity'] == 'Conseiller_ere_d_Etat')]\n",
    "CE_int_GC = df.query('initialEntity == \"Depute_e\" and initialEntity == \"Conseiller_ere_d_Etat\"')\n",
    "\n",
    "plt.figure(figsize=(4,4))\n",
    "# create sets\n",
    "CE_candidates = set(CE['value'])\n",
    "GC_candidates = set(GC['value'])\n",
    "CE_GC_intersection = CE_candidates.intersection(GC_candidates)\n",
    "\n",
    "venn2([GC_candidates, CE_candidates], ('GC_candidates', 'CE_candidates'))\n",
    "plt.show()"
   ]
  },
  {
   "cell_type": "code",
   "execution_count": 471,
   "metadata": {
    "collapsed": true
   },
   "outputs": [],
   "source": [
    "# create new sets\n",
    "GC_only = GC_candidates - CE_GC_intersection\n",
    "CE_only = CE_candidates - CE_GC_intersection\n",
    "CE_GC = CE_GC_intersection"
   ]
  },
  {
   "cell_type": "code",
   "execution_count": 472,
   "metadata": {},
   "outputs": [
    {
     "data": {
      "text/plain": [
       "{'AMBERGER Axel', 'AMSLER Susanne', 'AYMON Paul', 'CRETEGNY Willy'}"
      ]
     },
     "execution_count": 472,
     "metadata": {},
     "output_type": "execute_result"
    }
   ],
   "source": [
    "# check set creation\n",
    "CE_only"
   ]
  },
  {
   "cell_type": "code",
   "execution_count": 473,
   "metadata": {},
   "outputs": [
    {
     "data": {
      "text/plain": [
       "596"
      ]
     },
     "execution_count": 473,
     "metadata": {},
     "output_type": "execute_result"
    }
   ],
   "source": [
    "len(GC_only)"
   ]
  },
  {
   "cell_type": "code",
   "execution_count": 474,
   "metadata": {},
   "outputs": [
    {
     "data": {
      "text/plain": [
       "4"
      ]
     },
     "execution_count": 474,
     "metadata": {},
     "output_type": "execute_result"
    }
   ],
   "source": [
    "len(CE_only)"
   ]
  },
  {
   "cell_type": "code",
   "execution_count": 475,
   "metadata": {},
   "outputs": [
    {
     "data": {
      "text/plain": [
       "27"
      ]
     },
     "execution_count": 475,
     "metadata": {},
     "output_type": "execute_result"
    }
   ],
   "source": [
    "len(CE_GC)"
   ]
  },
  {
   "cell_type": "code",
   "execution_count": 476,
   "metadata": {
    "collapsed": true
   },
   "outputs": [],
   "source": [
    "# create dictionnaries from sets\n",
    "GC_only_dict = dict.fromkeys(GC_only, 'Candidat_GC')\n",
    "CE_only_dict = dict.fromkeys(CE_only, 'Candidat_CE')\n",
    "CE_GC_dict = dict.fromkeys(CE_GC, 'Candidat_CE_GC')"
   ]
  },
  {
   "cell_type": "code",
   "execution_count": 477,
   "metadata": {},
   "outputs": [
    {
     "data": {
      "text/html": [
       "<div>\n",
       "<style>\n",
       "    .dataframe thead tr:only-child th {\n",
       "        text-align: right;\n",
       "    }\n",
       "\n",
       "    .dataframe thead th {\n",
       "        text-align: left;\n",
       "    }\n",
       "\n",
       "    .dataframe tbody tr th {\n",
       "        vertical-align: top;\n",
       "    }\n",
       "</style>\n",
       "<table border=\"1\" class=\"dataframe\">\n",
       "  <thead>\n",
       "    <tr style=\"text-align: right;\">\n",
       "      <th></th>\n",
       "      <th>initialEntity</th>\n",
       "      <th>value</th>\n",
       "      <th>synonyms</th>\n",
       "      <th>entity</th>\n",
       "      <th>entity_GC</th>\n",
       "      <th>entity_CE</th>\n",
       "      <th>entity_CE_GC</th>\n",
       "    </tr>\n",
       "  </thead>\n",
       "  <tbody>\n",
       "    <tr>\n",
       "      <th>0</th>\n",
       "      <td>Depute_e</td>\n",
       "      <td>PAGANI Rémy</td>\n",
       "      <td>Pagani:Remy</td>\n",
       "      <td></td>\n",
       "      <td>Candidat_GC</td>\n",
       "      <td></td>\n",
       "      <td></td>\n",
       "    </tr>\n",
       "    <tr>\n",
       "      <th>1</th>\n",
       "      <td>Depute_e</td>\n",
       "      <td>WENGER Saliha</td>\n",
       "      <td>Wenger:Saliha</td>\n",
       "      <td></td>\n",
       "      <td></td>\n",
       "      <td></td>\n",
       "      <td>Candidat_CE_GC</td>\n",
       "    </tr>\n",
       "    <tr>\n",
       "      <th>2</th>\n",
       "      <td>Depute_e</td>\n",
       "      <td>ZAUGG Christian</td>\n",
       "      <td>Zaugg:Christian</td>\n",
       "      <td></td>\n",
       "      <td>Candidat_GC</td>\n",
       "      <td></td>\n",
       "      <td></td>\n",
       "    </tr>\n",
       "    <tr>\n",
       "      <th>3</th>\n",
       "      <td>Depute_e</td>\n",
       "      <td>HALLER Jocelyne</td>\n",
       "      <td>Haller:Jocelyne</td>\n",
       "      <td></td>\n",
       "      <td></td>\n",
       "      <td></td>\n",
       "      <td>Candidat_CE_GC</td>\n",
       "    </tr>\n",
       "    <tr>\n",
       "      <th>4</th>\n",
       "      <td>Depute_e</td>\n",
       "      <td>ENILINE Alexander</td>\n",
       "      <td>Eniline:Alexander</td>\n",
       "      <td></td>\n",
       "      <td>Candidat_GC</td>\n",
       "      <td></td>\n",
       "      <td></td>\n",
       "    </tr>\n",
       "  </tbody>\n",
       "</table>\n",
       "</div>"
      ],
      "text/plain": [
       "  initialEntity              value           synonyms entity    entity_GC  \\\n",
       "0      Depute_e        PAGANI Rémy        Pagani:Remy         Candidat_GC   \n",
       "1      Depute_e      WENGER Saliha      Wenger:Saliha                       \n",
       "2      Depute_e    ZAUGG Christian    Zaugg:Christian         Candidat_GC   \n",
       "3      Depute_e    HALLER Jocelyne    Haller:Jocelyne                       \n",
       "4      Depute_e  ENILINE Alexander  Eniline:Alexander         Candidat_GC   \n",
       "\n",
       "  entity_CE    entity_CE_GC  \n",
       "0                            \n",
       "1            Candidat_CE_GC  \n",
       "2                            \n",
       "3            Candidat_CE_GC  \n",
       "4                            "
      ]
     },
     "execution_count": 477,
     "metadata": {},
     "output_type": "execute_result"
    }
   ],
   "source": [
    "# add dictionnary values to entity column of df\n",
    "df['entity_GC'] = df['value'].map(GC_only_dict)\n",
    "df['entity_CE'] = df['value'].map(CE_only_dict)\n",
    "df['entity_CE_GC'] = df['value'].map(CE_GC_dict)\n",
    "# fillna\n",
    "df['entity_GC'] = df['entity_GC'].fillna('')\n",
    "df['entity_CE'] = df['entity_CE'].fillna('')\n",
    "df['entity_CE_GC'] = df['entity_CE_GC'].fillna('')\n",
    "df.head()"
   ]
  },
  {
   "cell_type": "code",
   "execution_count": 478,
   "metadata": {},
   "outputs": [
    {
     "data": {
      "text/html": [
       "<div>\n",
       "<style>\n",
       "    .dataframe thead tr:only-child th {\n",
       "        text-align: right;\n",
       "    }\n",
       "\n",
       "    .dataframe thead th {\n",
       "        text-align: left;\n",
       "    }\n",
       "\n",
       "    .dataframe tbody tr th {\n",
       "        vertical-align: top;\n",
       "    }\n",
       "</style>\n",
       "<table border=\"1\" class=\"dataframe\">\n",
       "  <thead>\n",
       "    <tr style=\"text-align: right;\">\n",
       "      <th></th>\n",
       "      <th>initialEntity</th>\n",
       "      <th>value</th>\n",
       "      <th>synonyms</th>\n",
       "      <th>entity</th>\n",
       "      <th>entity_GC</th>\n",
       "      <th>entity_CE</th>\n",
       "      <th>entity_CE_GC</th>\n",
       "    </tr>\n",
       "  </thead>\n",
       "  <tbody>\n",
       "    <tr>\n",
       "      <th>0</th>\n",
       "      <td>Depute_e</td>\n",
       "      <td>PAGANI Rémy</td>\n",
       "      <td>Pagani:Remy</td>\n",
       "      <td>Candidat_GC</td>\n",
       "      <td>Candidat_GC</td>\n",
       "      <td></td>\n",
       "      <td></td>\n",
       "    </tr>\n",
       "    <tr>\n",
       "      <th>1</th>\n",
       "      <td>Depute_e</td>\n",
       "      <td>WENGER Saliha</td>\n",
       "      <td>Wenger:Saliha</td>\n",
       "      <td>Candidat_CE_GC</td>\n",
       "      <td></td>\n",
       "      <td></td>\n",
       "      <td>Candidat_CE_GC</td>\n",
       "    </tr>\n",
       "    <tr>\n",
       "      <th>2</th>\n",
       "      <td>Depute_e</td>\n",
       "      <td>ZAUGG Christian</td>\n",
       "      <td>Zaugg:Christian</td>\n",
       "      <td>Candidat_GC</td>\n",
       "      <td>Candidat_GC</td>\n",
       "      <td></td>\n",
       "      <td></td>\n",
       "    </tr>\n",
       "    <tr>\n",
       "      <th>3</th>\n",
       "      <td>Depute_e</td>\n",
       "      <td>HALLER Jocelyne</td>\n",
       "      <td>Haller:Jocelyne</td>\n",
       "      <td>Candidat_CE_GC</td>\n",
       "      <td></td>\n",
       "      <td></td>\n",
       "      <td>Candidat_CE_GC</td>\n",
       "    </tr>\n",
       "    <tr>\n",
       "      <th>4</th>\n",
       "      <td>Depute_e</td>\n",
       "      <td>ENILINE Alexander</td>\n",
       "      <td>Eniline:Alexander</td>\n",
       "      <td>Candidat_GC</td>\n",
       "      <td>Candidat_GC</td>\n",
       "      <td></td>\n",
       "      <td></td>\n",
       "    </tr>\n",
       "  </tbody>\n",
       "</table>\n",
       "</div>"
      ],
      "text/plain": [
       "  initialEntity              value           synonyms          entity  \\\n",
       "0      Depute_e        PAGANI Rémy        Pagani:Remy     Candidat_GC   \n",
       "1      Depute_e      WENGER Saliha      Wenger:Saliha  Candidat_CE_GC   \n",
       "2      Depute_e    ZAUGG Christian    Zaugg:Christian     Candidat_GC   \n",
       "3      Depute_e    HALLER Jocelyne    Haller:Jocelyne  Candidat_CE_GC   \n",
       "4      Depute_e  ENILINE Alexander  Eniline:Alexander     Candidat_GC   \n",
       "\n",
       "     entity_GC entity_CE    entity_CE_GC  \n",
       "0  Candidat_GC                            \n",
       "1                         Candidat_CE_GC  \n",
       "2  Candidat_GC                            \n",
       "3                         Candidat_CE_GC  \n",
       "4  Candidat_GC                            "
      ]
     },
     "execution_count": 478,
     "metadata": {},
     "output_type": "execute_result"
    }
   ],
   "source": [
    "# create new column\n",
    "df['entity'] = df['entity_GC'] + df['entity_CE'] + df['entity_CE_GC']\n",
    "df.head()"
   ]
  },
  {
   "cell_type": "code",
   "execution_count": 479,
   "metadata": {},
   "outputs": [
    {
     "data": {
      "text/html": [
       "<div>\n",
       "<style>\n",
       "    .dataframe thead tr:only-child th {\n",
       "        text-align: right;\n",
       "    }\n",
       "\n",
       "    .dataframe thead th {\n",
       "        text-align: left;\n",
       "    }\n",
       "\n",
       "    .dataframe tbody tr th {\n",
       "        vertical-align: top;\n",
       "    }\n",
       "</style>\n",
       "<table border=\"1\" class=\"dataframe\">\n",
       "  <thead>\n",
       "    <tr style=\"text-align: right;\">\n",
       "      <th></th>\n",
       "      <th>value</th>\n",
       "      <th>synonyms</th>\n",
       "      <th>entity</th>\n",
       "    </tr>\n",
       "  </thead>\n",
       "  <tbody>\n",
       "    <tr>\n",
       "      <th>0</th>\n",
       "      <td>PAGANI Rémy</td>\n",
       "      <td>Pagani:Remy</td>\n",
       "      <td>Candidat_GC</td>\n",
       "    </tr>\n",
       "    <tr>\n",
       "      <th>1</th>\n",
       "      <td>WENGER Saliha</td>\n",
       "      <td>Wenger:Saliha</td>\n",
       "      <td>Candidat_CE_GC</td>\n",
       "    </tr>\n",
       "    <tr>\n",
       "      <th>2</th>\n",
       "      <td>ZAUGG Christian</td>\n",
       "      <td>Zaugg:Christian</td>\n",
       "      <td>Candidat_GC</td>\n",
       "    </tr>\n",
       "    <tr>\n",
       "      <th>3</th>\n",
       "      <td>HALLER Jocelyne</td>\n",
       "      <td>Haller:Jocelyne</td>\n",
       "      <td>Candidat_CE_GC</td>\n",
       "    </tr>\n",
       "    <tr>\n",
       "      <th>4</th>\n",
       "      <td>ENILINE Alexander</td>\n",
       "      <td>Eniline:Alexander</td>\n",
       "      <td>Candidat_GC</td>\n",
       "    </tr>\n",
       "  </tbody>\n",
       "</table>\n",
       "</div>"
      ],
      "text/plain": [
       "               value           synonyms          entity\n",
       "0        PAGANI Rémy        Pagani:Remy     Candidat_GC\n",
       "1      WENGER Saliha      Wenger:Saliha  Candidat_CE_GC\n",
       "2    ZAUGG Christian    Zaugg:Christian     Candidat_GC\n",
       "3    HALLER Jocelyne    Haller:Jocelyne  Candidat_CE_GC\n",
       "4  ENILINE Alexander  Eniline:Alexander     Candidat_GC"
      ]
     },
     "execution_count": 479,
     "metadata": {},
     "output_type": "execute_result"
    }
   ],
   "source": [
    "# remove old column\n",
    "df.drop(['initialEntity', 'entity_GC', 'entity_CE', 'entity_CE_GC'], axis=1, inplace=True)\n",
    "df.head()"
   ]
  },
  {
   "cell_type": "code",
   "execution_count": 485,
   "metadata": {},
   "outputs": [],
   "source": [
    "# drop duplicate columns\n",
    "df_dropped = df.drop_duplicates(subset=None, keep='first', inplace=False)"
   ]
  },
  {
   "cell_type": "code",
   "execution_count": 488,
   "metadata": {
    "collapsed": true
   },
   "outputs": [],
   "source": [
    "# export csv files\n",
    "df_dropped.to_csv('./electionBot_sBox/entities/candidates-Entities_v7.csv',index=False)"
   ]
  },
  {
   "cell_type": "code",
   "execution_count": null,
   "metadata": {
    "collapsed": true
   },
   "outputs": [],
   "source": []
  }
 ],
 "metadata": {
  "kernelspec": {
   "display_name": "Python [default]",
   "language": "python",
   "name": "python3"
  },
  "language_info": {
   "codemirror_mode": {
    "name": "ipython",
    "version": 3
   },
   "file_extension": ".py",
   "mimetype": "text/x-python",
   "name": "python",
   "nbconvert_exporter": "python",
   "pygments_lexer": "ipython3",
   "version": "3.6.4"
  }
 },
 "nbformat": 4,
 "nbformat_minor": 2
}
