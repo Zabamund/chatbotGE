{
 "cells": [
  {
   "cell_type": "markdown",
   "metadata": {},
   "source": [
    "# Landmanbot1 conversation log wrangling\n",
    "\n",
    "Conversations are downloaded from the bot list page.\n",
    "bot>hamburgerMenu>Export Converstion Log>Bot OR Intent conversation log>Time period\n"
   ]
  },
  {
   "cell_type": "code",
   "execution_count": 1,
   "metadata": {
    "collapsed": true
   },
   "outputs": [],
   "source": [
    "# imports libraries\n",
    "import pandas as pd"
   ]
  },
  {
   "cell_type": "code",
   "execution_count": 2,
   "metadata": {},
   "outputs": [
    {
     "data": {
      "text/html": [
       "<div>\n",
       "<style>\n",
       "    .dataframe thead tr:only-child th {\n",
       "        text-align: right;\n",
       "    }\n",
       "\n",
       "    .dataframe thead th {\n",
       "        text-align: left;\n",
       "    }\n",
       "\n",
       "    .dataframe tbody tr th {\n",
       "        vertical-align: top;\n",
       "    }\n",
       "</style>\n",
       "<table border=\"1\" class=\"dataframe\">\n",
       "  <thead>\n",
       "    <tr style=\"text-align: right;\">\n",
       "      <th></th>\n",
       "      <th>text</th>\n",
       "      <th>choices</th>\n",
       "      <th>source</th>\n",
       "      <th>createdOn</th>\n",
       "      <th>userId</th>\n",
       "      <th>sessionId</th>\n",
       "      <th>botId</th>\n",
       "      <th>channelType</th>\n",
       "      <th>channelId</th>\n",
       "      <th>payload</th>\n",
       "    </tr>\n",
       "  </thead>\n",
       "  <tbody>\n",
       "    <tr>\n",
       "      <th>0</th>\n",
       "      <td>bonjour</td>\n",
       "      <td>NaN</td>\n",
       "      <td>USER</td>\n",
       "      <td>2018-04-15T09:39:19.048Z</td>\n",
       "      <td>1610127525768218</td>\n",
       "      <td>1610127525768218</td>\n",
       "      <td>C337424F-C87D-47EF-8C4C-860BBCFFFEB2</td>\n",
       "      <td>webhook</td>\n",
       "      <td>CE2647BB-A3D8-4DBA-88E2-C94F6E48483D</td>\n",
       "      <td>{\"text\":\"bonjour\",\"type\":\"text\"}</td>\n",
       "    </tr>\n",
       "    <tr>\n",
       "      <th>1</th>\n",
       "      <td>Bonjour et bienvenue\\nJ'ai ?t? d?velopp? par q...</td>\n",
       "      <td>NaN</td>\n",
       "      <td>BOT</td>\n",
       "      <td>2018-04-15T09:39:19.550Z</td>\n",
       "      <td>1610127525768218</td>\n",
       "      <td>1610127525768218</td>\n",
       "      <td>C337424F-C87D-47EF-8C4C-860BBCFFFEB2</td>\n",
       "      <td>webhook</td>\n",
       "      <td>CE2647BB-A3D8-4DBA-88E2-C94F6E48483D</td>\n",
       "      <td>{\"text\":\"Bonjour et bienvenue\\nJ'ai ?t? d?velo...</td>\n",
       "    </tr>\n",
       "    <tr>\n",
       "      <th>2</th>\n",
       "      <td>Malheureusement les r?sultats ne sont pas enco...</td>\n",
       "      <td>NaN</td>\n",
       "      <td>BOT</td>\n",
       "      <td>2018-04-15T09:39:19.550Z</td>\n",
       "      <td>1610127525768218</td>\n",
       "      <td>1610127525768218</td>\n",
       "      <td>C337424F-C87D-47EF-8C4C-860BBCFFFEB2</td>\n",
       "      <td>webhook</td>\n",
       "      <td>CE2647BB-A3D8-4DBA-88E2-C94F6E48483D</td>\n",
       "      <td>{\"text\":\"Malheureusement les r?sultats ne sont...</td>\n",
       "    </tr>\n",
       "    <tr>\n",
       "      <th>3</th>\n",
       "      <td>menu</td>\n",
       "      <td>NaN</td>\n",
       "      <td>USER</td>\n",
       "      <td>2018-04-15T09:39:30.864Z</td>\n",
       "      <td>1610127525768218</td>\n",
       "      <td>1610127525768218</td>\n",
       "      <td>C337424F-C87D-47EF-8C4C-860BBCFFFEB2</td>\n",
       "      <td>webhook</td>\n",
       "      <td>CE2647BB-A3D8-4DBA-88E2-C94F6E48483D</td>\n",
       "      <td>{\"text\":\"menu\",\"type\":\"text\"}</td>\n",
       "    </tr>\n",
       "    <tr>\n",
       "      <th>4</th>\n",
       "      <td>Bonjour et bienvenue\\nJ'ai ?t? d?velopp? par q...</td>\n",
       "      <td>NaN</td>\n",
       "      <td>BOT</td>\n",
       "      <td>2018-04-15T09:39:30.881Z</td>\n",
       "      <td>1610127525768218</td>\n",
       "      <td>1610127525768218</td>\n",
       "      <td>C337424F-C87D-47EF-8C4C-860BBCFFFEB2</td>\n",
       "      <td>webhook</td>\n",
       "      <td>CE2647BB-A3D8-4DBA-88E2-C94F6E48483D</td>\n",
       "      <td>{\"text\":\"Bonjour et bienvenue\\nJ'ai ?t? d?velo...</td>\n",
       "    </tr>\n",
       "  </tbody>\n",
       "</table>\n",
       "</div>"
      ],
      "text/plain": [
       "                                                text  choices source  \\\n",
       "0                                            bonjour      NaN   USER   \n",
       "1  Bonjour et bienvenue\\nJ'ai ?t? d?velopp? par q...      NaN    BOT   \n",
       "2  Malheureusement les r?sultats ne sont pas enco...      NaN    BOT   \n",
       "3                                               menu      NaN   USER   \n",
       "4  Bonjour et bienvenue\\nJ'ai ?t? d?velopp? par q...      NaN    BOT   \n",
       "\n",
       "                  createdOn            userId         sessionId  \\\n",
       "0  2018-04-15T09:39:19.048Z  1610127525768218  1610127525768218   \n",
       "1  2018-04-15T09:39:19.550Z  1610127525768218  1610127525768218   \n",
       "2  2018-04-15T09:39:19.550Z  1610127525768218  1610127525768218   \n",
       "3  2018-04-15T09:39:30.864Z  1610127525768218  1610127525768218   \n",
       "4  2018-04-15T09:39:30.881Z  1610127525768218  1610127525768218   \n",
       "\n",
       "                                  botId channelType  \\\n",
       "0  C337424F-C87D-47EF-8C4C-860BBCFFFEB2     webhook   \n",
       "1  C337424F-C87D-47EF-8C4C-860BBCFFFEB2     webhook   \n",
       "2  C337424F-C87D-47EF-8C4C-860BBCFFFEB2     webhook   \n",
       "3  C337424F-C87D-47EF-8C4C-860BBCFFFEB2     webhook   \n",
       "4  C337424F-C87D-47EF-8C4C-860BBCFFFEB2     webhook   \n",
       "\n",
       "                              channelId  \\\n",
       "0  CE2647BB-A3D8-4DBA-88E2-C94F6E48483D   \n",
       "1  CE2647BB-A3D8-4DBA-88E2-C94F6E48483D   \n",
       "2  CE2647BB-A3D8-4DBA-88E2-C94F6E48483D   \n",
       "3  CE2647BB-A3D8-4DBA-88E2-C94F6E48483D   \n",
       "4  CE2647BB-A3D8-4DBA-88E2-C94F6E48483D   \n",
       "\n",
       "                                             payload  \n",
       "0                   {\"text\":\"bonjour\",\"type\":\"text\"}  \n",
       "1  {\"text\":\"Bonjour et bienvenue\\nJ'ai ?t? d?velo...  \n",
       "2  {\"text\":\"Malheureusement les r?sultats ne sont...  \n",
       "3                      {\"text\":\"menu\",\"type\":\"text\"}  \n",
       "4  {\"text\":\"Bonjour et bienvenue\\nJ'ai ?t? d?velo...  "
      ]
     },
     "execution_count": 2,
     "metadata": {},
     "output_type": "execute_result"
    }
   ],
   "source": [
    "# import files\n",
    "df_conv = pd.read_csv('./electionBot_sBox/GBarth_15apr/conversation_logs/TestLandmanbot1_bot_log.csv')\n",
    "df_conv.head()"
   ]
  },
  {
   "cell_type": "code",
   "execution_count": 9,
   "metadata": {},
   "outputs": [
    {
     "data": {
      "text/plain": [
       "\"Malheureusement les r?sultats ne sont pas encore disponibles ! Revenez me voir ? 12:45 lorsqu'ils seront publi?s: il ne me faudra que quelques millisecondes pour les apprendre par coeur et r?pondre ? vos questions :-).\\n\\nA tout ? l'heure !\""
      ]
     },
     "execution_count": 9,
     "metadata": {},
     "output_type": "execute_result"
    }
   ],
   "source": [
    "# extract text\n",
    "df_text = df_conv['text']\n",
    "df_text.iloc[2]"
   ]
  },
  {
   "cell_type": "code",
   "execution_count": null,
   "metadata": {
    "collapsed": true
   },
   "outputs": [],
   "source": []
  }
 ],
 "metadata": {
  "kernelspec": {
   "display_name": "Python [default]",
   "language": "python",
   "name": "python3"
  },
  "language_info": {
   "codemirror_mode": {
    "name": "ipython",
    "version": 3
   },
   "file_extension": ".py",
   "mimetype": "text/x-python",
   "name": "python",
   "nbconvert_exporter": "python",
   "pygments_lexer": "ipython3",
   "version": "3.6.4"
  }
 },
 "nbformat": 4,
 "nbformat_minor": 2
}
